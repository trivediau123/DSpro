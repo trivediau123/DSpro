{
 "cells": [
  {
   "cell_type": "markdown",
   "id": "2626ce21",
   "metadata": {},
   "source": [
    "# String Based Practice Questions"
   ]
  },
  {
   "cell_type": "markdown",
   "id": "d039c067",
   "metadata": {},
   "source": [
    "# String Based Assignment Problem"
   ]
  },
  {
   "cell_type": "code",
   "execution_count": 1,
   "id": "85e60bfa",
   "metadata": {},
   "outputs": [],
   "source": [
    "#!pip install validate_email\n",
    "#!pip install validators"
   ]
  },
  {
   "cell_type": "code",
   "execution_count": 2,
   "id": "5a81b3ed",
   "metadata": {},
   "outputs": [
    {
     "name": "stdout",
     "output_type": "stream",
     "text": [
      "Enter a string: India\n",
      "Reverse of India is aidnI\n"
     ]
    }
   ],
   "source": [
    "#1. Write a program to reverse a string.\n",
    "#Ask user to enetr a string\n",
    "string = input(\"Enter a string: \")\n",
    "\n",
    "#Reverese string by slicing\n",
    "reverse_string = string[::-1]\n",
    "print(\"Reverse of\",string,\"is\",reverse_string)"
   ]
  },
  {
   "cell_type": "code",
   "execution_count": 3,
   "id": "c827629a",
   "metadata": {},
   "outputs": [
    {
     "name": "stdout",
     "output_type": "stream",
     "text": [
      "Enter a string: madam\n",
      "Given string is palindrome\n"
     ]
    }
   ],
   "source": [
    "#2. Check if a string is a palindrome.\n",
    "#Ask user to enetr a string\n",
    "string = input(\"Enter a string: \")\n",
    "\n",
    "#Reverese string by slicing\n",
    "reverse_string = string[::-1]\n",
    "\n",
    "#Check for palindrome\n",
    "if string==reverse_string:\n",
    "    print(\"Given string is palindrome\")\n",
    "else:\n",
    "    print(\"Given string is not a palindrome\")"
   ]
  },
  {
   "cell_type": "code",
   "execution_count": 4,
   "id": "d753495a",
   "metadata": {},
   "outputs": [
    {
     "name": "stdout",
     "output_type": "stream",
     "text": [
      "Enter a string: python\n",
      "Uppercase of given string is: PYTHON\n"
     ]
    }
   ],
   "source": [
    "#3. Convert a string to uppercase.\n",
    "#Ask user to enetr a string\n",
    "string = input(\"Enter a string: \")\n",
    "\n",
    "#Convert a string to uppercase\n",
    "print(\"Uppercase of given string is:\",string.upper())"
   ]
  },
  {
   "cell_type": "code",
   "execution_count": 5,
   "id": "12b653c0",
   "metadata": {},
   "outputs": [
    {
     "name": "stdout",
     "output_type": "stream",
     "text": [
      "Enter a string: Python\n",
      "Lowercase of given string is: python\n"
     ]
    }
   ],
   "source": [
    "#4. Convert a string to lowercase.\n",
    "#Ask user to enetr a string\n",
    "string = input(\"Enter a string: \")\n",
    "\n",
    "#Convert a string to lowercase\n",
    "print(\"Lowercase of given string is:\",string.lower())"
   ]
  },
  {
   "cell_type": "code",
   "execution_count": 6,
   "id": "3729f1e2",
   "metadata": {},
   "outputs": [
    {
     "name": "stdout",
     "output_type": "stream",
     "text": [
      "Enter a string: I am indian\n",
      "Number of vowels in a string is:  5\n"
     ]
    }
   ],
   "source": [
    "#5. Count the number of vowels in a string.\n",
    "#Ask user to enetr a string\n",
    "string = input(\"Enter a string: \")\n",
    "\n",
    "j=0 #initilize counter\n",
    "for i in range(len(string)):\n",
    "    if string[i] in ['a','e','i','o','u','A','E','I','O','U']:\n",
    "        j=j+1\n",
    "print(\"Number of vowels in a string is: \",j)"
   ]
  },
  {
   "cell_type": "code",
   "execution_count": 7,
   "id": "e672bed8",
   "metadata": {},
   "outputs": [
    {
     "name": "stdout",
     "output_type": "stream",
     "text": [
      "Enter a string: I am indian\n",
      "Number of vowels in a string is:  6\n"
     ]
    }
   ],
   "source": [
    "#6. Count the number of consonants in a string.\n",
    "#Ask user to enetr a string\n",
    "string = input(\"Enter a string: \")\n",
    "\n",
    "j=0 #initilize counter\n",
    "for i in range(len(string)):\n",
    "    if string[i] not in ['a','e','i','o','u','A','E','I','O','U']:\n",
    "        j=j+1\n",
    "print(\"Number of vowels in a string is: \",j)"
   ]
  },
  {
   "cell_type": "code",
   "execution_count": 8,
   "id": "590b8590",
   "metadata": {},
   "outputs": [
    {
     "name": "stdout",
     "output_type": "stream",
     "text": [
      "Enter a string: I am indian\n",
      "string after spaces removed is:  Iamindian\n"
     ]
    }
   ],
   "source": [
    "#7. Remove all whitespaces from a string.\n",
    "#Ask user to enetr a string\n",
    "string = input(\"Enter a string: \")\n",
    "\n",
    "string_new = string.replace(' ','')\n",
    "\n",
    "print(\"string after spaces removed is: \",string_new)"
   ]
  },
  {
   "cell_type": "code",
   "execution_count": 9,
   "id": "245094c3",
   "metadata": {},
   "outputs": [
    {
     "name": "stdout",
     "output_type": "stream",
     "text": [
      "Enter a string: python\n",
      "length of string is:  6\n"
     ]
    }
   ],
   "source": [
    "#8. Find the length of a string without using the `len()` function.\n",
    "#Ask user to enetr a string\n",
    "string = input(\"Enter a string: \")\n",
    "\n",
    "count = 0\n",
    "for i in string:\n",
    "    count = count+1\n",
    "\n",
    "print(\"length of string is: \",count)"
   ]
  },
  {
   "cell_type": "code",
   "execution_count": 10,
   "id": "9f4716a5",
   "metadata": {},
   "outputs": [
    {
     "name": "stdout",
     "output_type": "stream",
     "text": [
      "Enter a string: Nany is driving car\n",
      "Enter a word: car\n",
      "car is presnt in Nany is driving car\n"
     ]
    }
   ],
   "source": [
    "#9. Check if a string contains a specific word.\n",
    "#Ask user to enetr a string\n",
    "string = input(\"Enter a string: \")\n",
    "word =input(\"Enter a word: \")\n",
    "\n",
    "if word in string:\n",
    "    print(word,\"is presnt in\",string)\n",
    "else:\n",
    "    print(word,\"is not presnt in\",string)"
   ]
  },
  {
   "cell_type": "code",
   "execution_count": 11,
   "id": "499f3657",
   "metadata": {},
   "outputs": [
    {
     "name": "stdout",
     "output_type": "stream",
     "text": [
      "Enter a string: Nany is driving car\n",
      "The entered string is: Nany is driving car\n",
      "Enter a word to replace: Nany\n",
      "Enter a new word: Sunny\n",
      "string after replace word is:  Sunny is driving car\n"
     ]
    }
   ],
   "source": [
    "#10. Replace a word in a string with another word.\n",
    "#Ask user to enetr a string\n",
    "string = input(\"Enter a string: \")\n",
    "print(\"The entered string is:\",string)\n",
    "word =input(\"Enter a word to replace: \")\n",
    "word_replace =input(\"Enter a new word: \")\n",
    "string_new = string.replace(word,word_replace)\n",
    "\n",
    "print(\"string after replace word is: \",string_new)"
   ]
  },
  {
   "cell_type": "code",
   "execution_count": 13,
   "id": "2a56465f",
   "metadata": {},
   "outputs": [
    {
     "name": "stdout",
     "output_type": "stream",
     "text": [
      "Enter a string: Hi, Hello, Hi\n",
      "Enter a word to be count: Hi\n",
      "Word:  Hi count is: 2\n"
     ]
    }
   ],
   "source": [
    "#11. Count the occurrences of a word in a string.\n",
    "string = input(\"Enter a string: \")\n",
    "\n",
    "word =input(\"Enter a word to be count: \")\n",
    "count1 = string.count(word)\n",
    "\n",
    "print(\"Word: \",word,\"count is:\",count1)"
   ]
  },
  {
   "cell_type": "code",
   "execution_count": 14,
   "id": "2b526beb",
   "metadata": {},
   "outputs": [
    {
     "name": "stdout",
     "output_type": "stream",
     "text": [
      "Enter a string: hi this is hi\n",
      "Enter a word: hi\n",
      "The first occurance of word hi is at: 0\n"
     ]
    }
   ],
   "source": [
    "#12. Find the first occurrence of a word in a string.\n",
    "\n",
    "#Ask user to enetr a string\n",
    "string = input(\"Enter a string: \")\n",
    "word =input(\"Enter a word: \")\n",
    "\n",
    "print(\"The first occurance of word\",word,\"is at:\",string.find(word))"
   ]
  },
  {
   "cell_type": "code",
   "execution_count": 15,
   "id": "929ddf55",
   "metadata": {},
   "outputs": [
    {
     "name": "stdout",
     "output_type": "stream",
     "text": [
      "Enter a string: hi this is hi\n",
      "Enter a word: hi\n",
      "The last occurance of word hi is at: 11\n"
     ]
    }
   ],
   "source": [
    "#13. Find the last occurrence of a word in a string.\n",
    "#Ask user to enetr a string\n",
    "string = input(\"Enter a string: \")\n",
    "word =input(\"Enter a word: \")\n",
    "\n",
    "print(\"The last occurance of word\",word,\"is at:\",string.rindex(word))"
   ]
  },
  {
   "cell_type": "code",
   "execution_count": 16,
   "id": "8b6bfbf9",
   "metadata": {},
   "outputs": [
    {
     "name": "stdout",
     "output_type": "stream",
     "text": [
      "Enter a string: I am indian\n",
      " list of words of given string is:  ['I', 'am', 'indian']\n"
     ]
    }
   ],
   "source": [
    "#14. Split a string into a list of words.\n",
    "#Ask user to enetr a string\n",
    "string = input(\"Enter a string: \")\n",
    "list1 = string.split(' ')\n",
    "\n",
    "print(\" list of words of given string is: \",list1)"
   ]
  },
  {
   "cell_type": "code",
   "execution_count": 17,
   "id": "77b96c7e",
   "metadata": {},
   "outputs": [
    {
     "name": "stdout",
     "output_type": "stream",
     "text": [
      " string of words of given list is:  IamIndian\n"
     ]
    }
   ],
   "source": [
    "#15. Join a list of words into a string.\n",
    "#Ask user to enetr a string\n",
    "list1 = ['I','am','Indian']\n",
    "string = ''.join(list1)\n",
    "\n",
    "print(\" string of words of given list is: \",string)"
   ]
  },
  {
   "cell_type": "code",
   "execution_count": 18,
   "id": "5e06edec",
   "metadata": {},
   "outputs": [
    {
     "name": "stdout",
     "output_type": "stream",
     "text": [
      "Enter a string: I am indian\n",
      "Converted string Words seperated by underscore is: I_am_indian\n"
     ]
    }
   ],
   "source": [
    "#16. Convert a string where words are separated by spaces to one where words are separated by underscores.\n",
    "#Ask user to enetr a string\n",
    "string = input(\"Enter a string: \")\n",
    "\n",
    "print(\"Converted string Words seperated by underscore is:\",string.replace(' ',\"_\"))"
   ]
  },
  {
   "cell_type": "code",
   "execution_count": 19,
   "id": "97e4ad93",
   "metadata": {},
   "outputs": [
    {
     "name": "stdout",
     "output_type": "stream",
     "text": [
      "Enter a string: Python is user friendly\n",
      "Enter a word: Pyt\n",
      "Given string starts with: Pyt\n"
     ]
    }
   ],
   "source": [
    "#17. Check if a string starts with a specific word or phrase.\n",
    "#Ask user to enetr a string\n",
    "string = input(\"Enter a string: \")\n",
    "word =input(\"Enter a word: \")\n",
    "\n",
    "if string.startswith(word):\n",
    "    print(\"Given string starts with:\",word)\n",
    "else:\n",
    "    print(\"Given string doesn't starts with:\",word)\n"
   ]
  },
  {
   "cell_type": "code",
   "execution_count": 20,
   "id": "211e097a",
   "metadata": {},
   "outputs": [
    {
     "name": "stdout",
     "output_type": "stream",
     "text": [
      "Enter a string: Python is user friendly\n",
      "Enter a word: friendly\n",
      "Given string ends with: friendly\n"
     ]
    }
   ],
   "source": [
    "#18. Check if a string ends with a specific word or phrase.\n",
    "#Ask user to enetr a string\n",
    "string = input(\"Enter a string: \")\n",
    "word =input(\"Enter a word: \")\n",
    "\n",
    "if string.endswith(word):\n",
    "    print(\"Given string ends with:\",word)\n",
    "else:\n",
    "    print(\"Given string doesn't ends with:\",word)"
   ]
  },
  {
   "cell_type": "code",
   "execution_count": 21,
   "id": "982c4170",
   "metadata": {},
   "outputs": [
    {
     "name": "stdout",
     "output_type": "stream",
     "text": [
      "Enter a string:  hello world\n",
      "Title case of given string is:  Hello World\n"
     ]
    }
   ],
   "source": [
    "#19. Convert a string to title case (e.g., \"hello world\" to \"Hello World\").\n",
    "#Ask user to enetr a string\n",
    "string = input(\"Enter a string: \")\n",
    "\n",
    "print(\"Title case of given string is:\",string.title())"
   ]
  },
  {
   "cell_type": "code",
   "execution_count": 22,
   "id": "e5d17e27",
   "metadata": {},
   "outputs": [
    {
     "name": "stdout",
     "output_type": "stream",
     "text": [
      "Enter a string: I am indian\n",
      "The longest word in the string is:  indian  with length: 6\n"
     ]
    }
   ],
   "source": [
    "#20. Find the longest word in a string.\n",
    "#Ask user to enetr a string\n",
    "string = input(\"Enter a string: \")\n",
    "len_list = []\n",
    "my_list = string.split(' ')\n",
    "for i in my_list:\n",
    "    len_list.append(len(i))\n",
    "l_index = len_list.index(max(len_list))\n",
    "long_word = my_list[l_index]\n",
    "print(\"The longest word in the string is: \",long_word,\" with length:\",max(len_list))\n",
    "    "
   ]
  },
  {
   "cell_type": "code",
   "execution_count": 23,
   "id": "29d81ef4",
   "metadata": {},
   "outputs": [
    {
     "name": "stdout",
     "output_type": "stream",
     "text": [
      "Enter a string: I am indian\n",
      "The shortest word in the string is:  I  with length: 1\n"
     ]
    }
   ],
   "source": [
    "#21. Find the shortest word in a string.\n",
    "#Ask user to enetr a string\n",
    "string = input(\"Enter a string: \")\n",
    "len_list = []\n",
    "my_list = string.split(' ')\n",
    "for i in my_list:\n",
    "    len_list.append(len(i))\n",
    "l_index = len_list.index(min(len_list))\n",
    "short_word = my_list[l_index]\n",
    "print(\"The shortest word in the string is: \",short_word,\" with length:\",min(len_list))"
   ]
  },
  {
   "cell_type": "code",
   "execution_count": 24,
   "id": "b051e7b4",
   "metadata": {},
   "outputs": [
    {
     "name": "stdout",
     "output_type": "stream",
     "text": [
      "Enter a string: ram is friend of sham\n",
      "Reverse the order of words in a string:  sham of friend is ram\n"
     ]
    }
   ],
   "source": [
    "#22. Reverse the order of words in a string.\n",
    "string = input(\"Enter a string: \")\n",
    "\n",
    "my_list = string.split(' ')\n",
    "my_list = my_list[::-1]\n",
    "print(\"Reverse the order of words in a string: \",' '.join(my_list))"
   ]
  },
  {
   "cell_type": "code",
   "execution_count": 25,
   "id": "ee06eef6",
   "metadata": {},
   "outputs": [
    {
     "name": "stdout",
     "output_type": "stream",
     "text": [
      "Enter a string: ABC1234\n",
      "string is alphanumeric\n"
     ]
    }
   ],
   "source": [
    "#23. Check if a string is alphanumeric.\n",
    "#Ask user to enetr a string\n",
    "string = input(\"Enter a string: \")\n",
    "\n",
    "if string.isalnum():\n",
    "    print(\"string is alphanumeric\")\n",
    "else:\n",
    "    print(\"string is not alphanumeric\")"
   ]
  },
  {
   "cell_type": "code",
   "execution_count": 26,
   "id": "0242e30f",
   "metadata": {},
   "outputs": [
    {
     "name": "stdout",
     "output_type": "stream",
     "text": [
      "Enter a string: ABC1234\n",
      "digits from a string are: 1234\n"
     ]
    }
   ],
   "source": [
    "#24. Extract all digits from a string.\n",
    "#Ask user to enetr a string\n",
    "string = input(\"Enter a string: \")\n",
    "\n",
    "num = []\n",
    "for i in string:\n",
    "    if i.isdigit():\n",
    "        num.append(i)\n",
    "print(\"digits from a string are:\",''.join(num))"
   ]
  },
  {
   "cell_type": "code",
   "execution_count": 27,
   "id": "eb2d31aa",
   "metadata": {},
   "outputs": [
    {
     "name": "stdout",
     "output_type": "stream",
     "text": [
      "Enter a string: ABC1234\n",
      "alphabets from a string are: ABC\n"
     ]
    }
   ],
   "source": [
    "#25. Extract all alphabets from a string.\n",
    "#Ask user to enetr a string\n",
    "string = input(\"Enter a string: \")\n",
    "\n",
    "num = []\n",
    "for i in string:\n",
    "    if i.isalpha():\n",
    "        num.append(i)\n",
    "print(\"alphabets from a string are:\",''.join(num))"
   ]
  },
  {
   "cell_type": "code",
   "execution_count": 28,
   "id": "215f575d",
   "metadata": {},
   "outputs": [
    {
     "name": "stdout",
     "output_type": "stream",
     "text": [
      "Enter a string: Nancy is Cute Girl\n",
      "Count of uppercase letters in a string: 3\n"
     ]
    }
   ],
   "source": [
    "#26. Count the number of uppercase letters in a string.\n",
    "#Ask user to enetr a string\n",
    "string = input(\"Enter a string: \")\n",
    "\n",
    "count = 0\n",
    "for i in string:\n",
    "    if i.isupper():\n",
    "        count = count+1\n",
    "print(\"Count of uppercase letters in a string:\",count)"
   ]
  },
  {
   "cell_type": "code",
   "execution_count": 29,
   "id": "75698940",
   "metadata": {},
   "outputs": [
    {
     "name": "stdout",
     "output_type": "stream",
     "text": [
      "Enter a string: Nancy is Cute Girl\n",
      "Count of lowercase letters in a string: 12\n"
     ]
    }
   ],
   "source": [
    "#27. Count the number of lowercase letters in a string.\n",
    "#Ask user to enetr a string\n",
    "string = input(\"Enter a string: \")\n",
    "\n",
    "count = 0\n",
    "for i in string:\n",
    "    if i.islower():\n",
    "        count = count+1\n",
    "print(\"Count of lowercase letters in a string:\",count)"
   ]
  },
  {
   "cell_type": "code",
   "execution_count": 30,
   "id": "d27580a4",
   "metadata": {},
   "outputs": [
    {
     "name": "stdout",
     "output_type": "stream",
     "text": [
      "Enter a string: iNDIA\n",
      "Swaped string is: India\n"
     ]
    }
   ],
   "source": [
    "#28. Swap the case of each character in a string.\n",
    "#Ask user to enetr a string\n",
    "string = input(\"Enter a string: \")\n",
    "\n",
    "print(\"Swaped string is:\",string.swapcase())"
   ]
  },
  {
   "cell_type": "code",
   "execution_count": 31,
   "id": "9f968b64",
   "metadata": {},
   "outputs": [
    {
     "name": "stdout",
     "output_type": "stream",
     "text": [
      "Enter a string: Hi all this is ravi\n",
      "Enter a word: all\n",
      "String after removing word is: Hi  this is ravi\n"
     ]
    }
   ],
   "source": [
    "#29. Remove a specific word from a string.\n",
    "#Ask user to enetr a string\n",
    "string = input(\"Enter a string: \")\n",
    "word =input(\"Enter a word: \")\n",
    "\n",
    "print(\"String after removing word is:\",string.replace(word,''))"
   ]
  },
  {
   "cell_type": "code",
   "execution_count": 32,
   "id": "80593ccb",
   "metadata": {},
   "outputs": [
    {
     "name": "stdout",
     "output_type": "stream",
     "text": [
      "Enter an email address: abc@gmail.com\n",
      "Valid email address\n"
     ]
    }
   ],
   "source": [
    "#30. Check if a string is a valid email address.\n",
    "#Ask user to enetr a string\n",
    "from validate_email import validate_email\n",
    "\n",
    "string = input(\"Enter an email address: \")\n",
    "\n",
    "if validate_email(string):\n",
    "    print(\"Valid email address\")\n",
    "else:\n",
    "    print(\"Invalid email address\")"
   ]
  },
  {
   "cell_type": "code",
   "execution_count": 33,
   "id": "3d094e09",
   "metadata": {
    "scrolled": true
   },
   "outputs": [
    {
     "name": "stdout",
     "output_type": "stream",
     "text": [
      "Enter an email address: abc123@gmail.com\n",
      "username from an email address string:  abc123\n"
     ]
    }
   ],
   "source": [
    "#31. Extract the username from an email address string.\n",
    "string = input(\"Enter an email address: \")\n",
    "index1 = string.index('@')\n",
    "username = string[:index1]\n",
    "\n",
    "print(\"username from an email address string: \",username)"
   ]
  },
  {
   "cell_type": "code",
   "execution_count": 34,
   "id": "be38da85",
   "metadata": {},
   "outputs": [
    {
     "name": "stdout",
     "output_type": "stream",
     "text": [
      "Enter an email address: abc123@gmail.com\n",
      "domain name from an email address string:  gmail.com\n"
     ]
    }
   ],
   "source": [
    "#32. Extract the domain name from an email address string.\n",
    "string = input(\"Enter an email address: \")\n",
    "index1 = string.index('@')\n",
    "domain = string[index1+1:]\n",
    "\n",
    "print(\"domain name from an email address string: \",domain)"
   ]
  },
  {
   "cell_type": "code",
   "execution_count": 35,
   "id": "d9c26132",
   "metadata": {},
   "outputs": [
    {
     "name": "stdout",
     "output_type": "stream",
     "text": [
      "Enter a string: Hi   hello   vishal\n",
      "Modifies string is: Hi hello vishal\n"
     ]
    }
   ],
   "source": [
    "#33. Replace multiple spaces in a string with a single space.\n",
    "#Ask user to enetr a string\n",
    "string = input(\"Enter a string: \")\n",
    "result = \" \".join(string.split())\n",
    "print(\"Modifies string is:\",result)"
   ]
  },
  {
   "cell_type": "code",
   "execution_count": 36,
   "id": "210edaa3",
   "metadata": {},
   "outputs": [
    {
     "name": "stdout",
     "output_type": "stream",
     "text": [
      "Enter an URL string: https://learn.pwskills.com/course/full-stack-data-science-pro\n",
      "Valid URL link\n"
     ]
    }
   ],
   "source": [
    "#34. Check if a string is a valid URL.\n",
    "import validators\n",
    "string = input(\"Enter an URL string: \")\n",
    "if validators.url(string):\n",
    "    print(\"Valid URL link\")\n",
    "else:\n",
    "    print(\"Invalid URL link\")"
   ]
  },
  {
   "cell_type": "code",
   "execution_count": 37,
   "id": "cc4e3092",
   "metadata": {},
   "outputs": [
    {
     "name": "stdout",
     "output_type": "stream",
     "text": [
      "Enter an URL string: https://learn.pwskills.com/course/full-stack-data-science-pro\n",
      "Extracted protocol (http or https) from a URL string is:  https\n"
     ]
    }
   ],
   "source": [
    "#35. Extract the protocol (http or https) from a URL string.\n",
    "string = input(\"Enter an URL string: \")\n",
    "index1 = string.index(':')\n",
    "URL_protocol = string[:index1]\n",
    "\n",
    "print(\"Extracted protocol (http or https) from a URL string is: \",URL_protocol)\n",
    "#https://learn.pwskills.com/course/full-stack-data-science-pro"
   ]
  },
  {
   "cell_type": "code",
   "execution_count": 38,
   "id": "bff1a58b",
   "metadata": {},
   "outputs": [
    {
     "name": "stdout",
     "output_type": "stream",
     "text": [
      "Enter a string: pwskills\n",
      "frequency of each character in a string is: {'p': 1, 'w': 1, 's': 2, 'k': 1, 'i': 1, 'l': 2}\n"
     ]
    }
   ],
   "source": [
    "#36. Find the frequency of each character in a string.\n",
    "#Ask user to enetr a string\n",
    "string = input(\"Enter a string: \")\n",
    "freq = {}\n",
    "for i in string:\n",
    "    if i in freq:\n",
    "        freq[i] += 1\n",
    "    else:\n",
    "        freq[i] = 1\n",
    "print(\"frequency of each character in a string is:\",freq)"
   ]
  },
  {
   "cell_type": "code",
   "execution_count": 39,
   "id": "89f165b2",
   "metadata": {},
   "outputs": [
    {
     "name": "stdout",
     "output_type": "stream",
     "text": [
      "Enter a string: abc@12#\n",
      "String after punctiations removed is: abc12\n"
     ]
    }
   ],
   "source": [
    "#37. Remove all punctuation from a string.\n",
    "string = input(\"Enter a string: \")\n",
    "punc = '''!()-[]{};:'\"\\,<>./?@#$%^&*_~'''\n",
    "for i in string:\n",
    "    if i in punc:\n",
    "        string = string.replace(i,\"\")\n",
    "print(\"String after punctiations removed is:\",string)"
   ]
  },
  {
   "cell_type": "code",
   "execution_count": 40,
   "id": "3a19c8ef",
   "metadata": {},
   "outputs": [
    {
     "name": "stdout",
     "output_type": "stream",
     "text": [
      "Enter a string: 1234\n",
      "String contains only digits\n"
     ]
    }
   ],
   "source": [
    "#38. Check if a string contains only digits.\n",
    "string = input(\"Enter a string: \")\n",
    "if string.isdigit():\n",
    "    print(\"String contains only digits\")\n",
    "else:\n",
    "    print(\"String not contains only digits\")"
   ]
  },
  {
   "cell_type": "code",
   "execution_count": 41,
   "id": "dcfd2dd3",
   "metadata": {},
   "outputs": [
    {
     "name": "stdout",
     "output_type": "stream",
     "text": [
      "Enter a string: abcd\n",
      "String contains only alphabets\n"
     ]
    }
   ],
   "source": [
    "#39. Check if a string contains only alphabets.\n",
    "string = input(\"Enter a string: \")\n",
    "if string.isalpha():\n",
    "    print(\"String contains only alphabets\")\n",
    "else:\n",
    "    print(\"String not contains only alphabets\")"
   ]
  },
  {
   "cell_type": "code",
   "execution_count": 42,
   "id": "4c6dcb7a",
   "metadata": {},
   "outputs": [
    {
     "name": "stdout",
     "output_type": "stream",
     "text": [
      "Enter a string: python\n",
      "string to a list of characters is: ['p', 'y', 't', 'h', 'o', 'n']\n"
     ]
    }
   ],
   "source": [
    "#40. Convert a string to a list of characters.\n",
    "string = input(\"Enter a string: \")\n",
    "print(\"string to a list of characters is:\",list(string))"
   ]
  },
  {
   "cell_type": "code",
   "execution_count": 43,
   "id": "14969b74",
   "metadata": {},
   "outputs": [
    {
     "name": "stdout",
     "output_type": "stream",
     "text": [
      "Enter First string: python\n",
      "Enter Second string: pwskills\n",
      "Both strings are not anagrams\n"
     ]
    }
   ],
   "source": [
    "#41. Check if two strings are anagrams.\n",
    "string1 = input(\"Enter First string: \")\n",
    "string2 = input(\"Enter Second string: \")\n",
    "\n",
    "if set(list(string1))==set(list(string2)):\n",
    "    print(\"Both strings are anagrams\")\n",
    "else:\n",
    "    print(\"Both strings are not anagrams\")"
   ]
  },
  {
   "cell_type": "code",
   "execution_count": 44,
   "id": "f93539f8",
   "metadata": {},
   "outputs": [
    {
     "name": "stdout",
     "output_type": "stream",
     "text": [
      "Encoded text: ehoor, zruog!\n"
     ]
    }
   ],
   "source": [
    "#42. Encode a string using a Caesar cipher.\n",
    "def caesar_cipher(text, shift):\n",
    "    encoded_text = \"\"\n",
    "    for char in text:\n",
    "        if char.isalpha():\n",
    "            encoded_char = chr((ord(char) + shift - ord('a')) % 26 + ord('a'))\n",
    "        else:\n",
    "            encoded_char = char\n",
    "\n",
    "        encoded_text += encoded_char\n",
    "    return encoded_text\n",
    "\n",
    "text = \"Hello, world!\"\n",
    "shift = 3\n",
    "\n",
    "encoded_text = caesar_cipher(text, shift)\n",
    "\n",
    "print(\"Encoded text:\", encoded_text)"
   ]
  },
  {
   "cell_type": "code",
   "execution_count": 46,
   "id": "9e85d0d0",
   "metadata": {},
   "outputs": [
    {
     "name": "stdout",
     "output_type": "stream",
     "text": [
      "Decoded text: bello, world!\n"
     ]
    }
   ],
   "source": [
    "#43. Decode a Caesar cipher encoded string.\n",
    "def caesar_cipher_decoder(text, shift):\n",
    "    decoded_text = \"\"\n",
    "    for char in text:\n",
    "        if char.isalpha():\n",
    "            decoded_char = chr((ord(char) - shift - ord('a')) % 26 + ord('a'))\n",
    "        else:\n",
    "            decoded_char = char\n",
    "        decoded_text += decoded_char\n",
    "\n",
    "    return decoded_text\n",
    "\n",
    "text = \"ehoor, zruog!\"\n",
    "shift = 3\n",
    "\n",
    "decoded_text = caesar_cipher_decoder(text, shift)\n",
    "\n",
    "print(\"Decoded text:\", decoded_text)"
   ]
  },
  {
   "cell_type": "code",
   "execution_count": 47,
   "id": "62ff1df9",
   "metadata": {},
   "outputs": [
    {
     "name": "stdout",
     "output_type": "stream",
     "text": [
      "Most frequent word: hello\n"
     ]
    }
   ],
   "source": [
    "#44. Find the most frequent word in a string.\n",
    "import re\n",
    "from collections import Counter\n",
    "\n",
    "def most_frequent_word(input_string):\n",
    "    clean_string = re.sub(r'[^\\w\\s]', '', input_string).lower()\n",
    "    words = clean_string.split()\n",
    "    word_counter = Counter(words)\n",
    "    most_common_word = word_counter.most_common(1)[0][0]\n",
    "    return most_common_word\n",
    "\n",
    "input_str = \"Hello world, hello there! How's the world?\"\n",
    "most_common = most_frequent_word(input_str)\n",
    "print(\"Most frequent word:\", most_common)"
   ]
  },
  {
   "cell_type": "code",
   "execution_count": 48,
   "id": "54e5200e",
   "metadata": {},
   "outputs": [
    {
     "name": "stdout",
     "output_type": "stream",
     "text": [
      "Unique words: {'hows', 'world', 'hello', 'there', 'the'}\n"
     ]
    }
   ],
   "source": [
    "#45. Find all unique words in a string.\n",
    "import re\n",
    "\n",
    "def unique_words(input_string):\n",
    "    clean_string = re.sub(r'[^\\w\\s]', '', input_string).lower()\n",
    "    words = set(clean_string.split())\n",
    "\n",
    "    return words\n",
    "\n",
    "input_str = \"Hello world, hello there! How's the world?\"\n",
    "\n",
    "unique_word_set = unique_words(input_str)\n",
    "\n",
    "print(\"Unique words:\", unique_word_set)"
   ]
  },
  {
   "cell_type": "code",
   "execution_count": 49,
   "id": "7f6dff79",
   "metadata": {},
   "outputs": [
    {
     "name": "stdout",
     "output_type": "stream",
     "text": [
      "'hello' has 2 syllables.\n",
      "'banana' has 3 syllables.\n",
      "'syllable' has 3 syllables.\n"
     ]
    }
   ],
   "source": [
    "#46. Count the number of syllables in a string.\n",
    "import re\n",
    "\n",
    "def count_syllables(word):\n",
    "    # Count vowel groups using regular expression\n",
    "    vowel_groups = re.findall(r'[aeiouy]+', word, re.IGNORECASE)\n",
    "\n",
    "    return len(vowel_groups)\n",
    "\n",
    "# Example words\n",
    "word1 = \"hello\"\n",
    "word2 = \"banana\"\n",
    "word3 = \"syllable\"\n",
    "\n",
    "# Count syllables\n",
    "syllables1 = count_syllables(word1)\n",
    "syllables2 = count_syllables(word2)\n",
    "syllables3 = count_syllables(word3)\n",
    "\n",
    "# Print the results\n",
    "print(f\"'{word1}' has {syllables1} syllables.\")\n",
    "print(f\"'{word2}' has {syllables2} syllables.\")\n",
    "print(f\"'{word3}' has {syllables3} syllables.\")"
   ]
  },
  {
   "cell_type": "code",
   "execution_count": 50,
   "id": "02031835",
   "metadata": {},
   "outputs": [
    {
     "name": "stdout",
     "output_type": "stream",
     "text": [
      "'Hello, world!' contains special characters: True\n",
      "'This is a test.' contains special characters: True\n",
      "'Special@Characters' contains special characters: True\n"
     ]
    }
   ],
   "source": [
    "#47. Check if a string contains any special characters.\n",
    "import re\n",
    "\n",
    "def contains_special_characters(input_string):\n",
    "    # Define a regular expression pattern to match special characters\n",
    "    pattern = re.compile(r'[!@#$%^&*()_+{}\\[\\]:;<>,.?~\\\\/]')\n",
    "\n",
    "    # Use the search() method to find a match\n",
    "    match = pattern.search(input_string)\n",
    "\n",
    "    # Return True if a match is found, False otherwise\n",
    "    return bool(match)\n",
    "\n",
    "# Example strings\n",
    "string1 = \"Hello, world!\"\n",
    "string2 = \"This is a test.\"\n",
    "string3 = \"Special@Characters\"\n",
    "\n",
    "# Check if strings contain special characters\n",
    "result1 = contains_special_characters(string1)\n",
    "result2 = contains_special_characters(string2)\n",
    "result3 = contains_special_characters(string3)\n",
    "\n",
    "# Print the results\n",
    "print(f\"'{string1}' contains special characters:\", result1)\n",
    "print(f\"'{string2}' contains special characters:\", result2)\n",
    "print(f\"'{string3}' contains special characters:\", result3)"
   ]
  },
  {
   "cell_type": "code",
   "execution_count": 51,
   "id": "09e656f2",
   "metadata": {},
   "outputs": [
    {
     "name": "stdout",
     "output_type": "stream",
     "text": [
      "Original string: This is an example sentence to test the function.\n",
      "Modified string: This is an sentence to test the function.\n",
      "Removed word: example\n"
     ]
    }
   ],
   "source": [
    "#48. Remove the nth word from a string.\n",
    "def remove_nth_word(input_string, n):\n",
    "    # Split the input string into words\n",
    "    words = input_string.split()\n",
    "\n",
    "    # Check if n is within a valid range\n",
    "    if n >= 1 and n <= len(words):\n",
    "        # Remove the nth word by excluding it from the words list\n",
    "        removed_word = words.pop(n - 1)\n",
    "\n",
    "        # Join the remaining words to form the modified string\n",
    "        modified_string = ' '.join(words)\n",
    "\n",
    "        return modified_string, removed_word\n",
    "    else:\n",
    "        return None, None\n",
    "\n",
    "# Example string and n value\n",
    "input_str = \"This is an example sentence to test the function.\"\n",
    "n_value = 4\n",
    "\n",
    "# Remove the nth word\n",
    "modified_str, removed_word = remove_nth_word(input_str, n_value)\n",
    "\n",
    "# Print the results\n",
    "print(\"Original string:\", input_str)\n",
    "if modified_str is not None:\n",
    "    print(\"Modified string:\", modified_str)\n",
    "    print(\"Removed word:\", removed_word)\n",
    "else:\n",
    "    print(\"Invalid n value.\")"
   ]
  },
  {
   "cell_type": "code",
   "execution_count": 52,
   "id": "25a11c91",
   "metadata": {},
   "outputs": [
    {
     "name": "stdout",
     "output_type": "stream",
     "text": [
      "Original string: This is a test string.\n",
      "Modified string: This is a sample test string.\n"
     ]
    }
   ],
   "source": [
    "#49. Insert a word at the nth position in a string.\n",
    "def insert_word_at_n(input_string, word_to_insert, n):\n",
    "    # Split the input string into words\n",
    "    words = input_string.split()\n",
    "\n",
    "    # Check if n is within a valid range\n",
    "    if n >= 0 and n <= len(words):\n",
    "        # Insert the word at the nth position in the words list\n",
    "        words.insert(n, word_to_insert)\n",
    "\n",
    "        # Join the words to form the modified string\n",
    "        modified_string = ' '.join(words)\n",
    "\n",
    "        return modified_string\n",
    "    else:\n",
    "        return None\n",
    "\n",
    "# Example string, word to insert, and n value\n",
    "input_str = \"This is a test string.\"\n",
    "word_to_insert = \"sample\"\n",
    "n_value = 3\n",
    "\n",
    "# Insert the word at the nth position\n",
    "modified_str = insert_word_at_n(input_str, word_to_insert, n_value)\n",
    "\n",
    "# Print the results\n",
    "print(\"Original string:\", input_str)\n",
    "if modified_str is not None:\n",
    "    print(\"Modified string:\", modified_str)\n",
    "else:\n",
    "    print(\"Invalid n value.\")"
   ]
  },
  {
   "cell_type": "code",
   "execution_count": 53,
   "id": "8517dc43",
   "metadata": {},
   "outputs": [
    {
     "name": "stdout",
     "output_type": "stream",
     "text": [
      "['Name', ' Age', ' Country']\n",
      "['John', ' 25', ' USA']\n",
      "['Alice', ' 30', ' Canada']\n",
      "['Bob', ' 22', ' UK']\n"
     ]
    }
   ],
   "source": [
    "#50. Convert a CSV string to a list of lists.\n",
    "def csv_string_to_list(csv_string):\n",
    "    # Split the CSV string into lines\n",
    "    lines = csv_string.split('\\n')\n",
    "\n",
    "    # Initialize an empty list to store the result\n",
    "    result = []\n",
    "\n",
    "    for line in lines:\n",
    "        # Split each line into fields using comma as the delimiter\n",
    "        fields = line.split(',')\n",
    "\n",
    "        # Append the fields to the result list as a row\n",
    "        result.append(fields)\n",
    "\n",
    "    return result\n",
    "\n",
    "# Example CSV string\n",
    "csv_data = \"Name, Age, Country\\nJohn, 25, USA\\nAlice, 30, Canada\\nBob, 22, UK\"\n",
    "\n",
    "# Convert CSV string to a list of lists\n",
    "list_of_lists = csv_string_to_list(csv_data)\n",
    "\n",
    "# Print the result\n",
    "for row in list_of_lists:\n",
    "    print(row)"
   ]
  },
  {
   "cell_type": "markdown",
   "id": "2172e59b",
   "metadata": {},
   "source": [
    "# List Based Practice Problem :"
   ]
  },
  {
   "cell_type": "code",
   "execution_count": 54,
   "id": "b015f7f0",
   "metadata": {},
   "outputs": [
    {
     "name": "stdout",
     "output_type": "stream",
     "text": [
      "List is:  [1, 2, 3, 4, 5, 6, 7, 8, 9, 10]\n"
     ]
    }
   ],
   "source": [
    "#1. Create a list with integers from 1 to 10.\n",
    "my_list = [1,2,3,4,5,6,7,8,9,10]\n",
    "#OR\n",
    "my_list = []\n",
    "for i in range(1,11):\n",
    "    my_list.append(i)\n",
    "print(\"List is: \",my_list)"
   ]
  },
  {
   "cell_type": "code",
   "execution_count": 55,
   "id": "7815497b",
   "metadata": {},
   "outputs": [
    {
     "name": "stdout",
     "output_type": "stream",
     "text": [
      "lenght of list is: 5\n"
     ]
    }
   ],
   "source": [
    "#2. Find the length of a list without using the `len()` function.\n",
    "my_list = [1,2,3,4,5]\n",
    "count = 0\n",
    "for i in my_list:\n",
    "    count +=1\n",
    "print(\"lenght of list is:\",count)"
   ]
  },
  {
   "cell_type": "code",
   "execution_count": 56,
   "id": "980eefd6",
   "metadata": {},
   "outputs": [
    {
     "name": "stdout",
     "output_type": "stream",
     "text": [
      "List after appending 6 is: [1, 2, 3, 4, 5, 6]\n"
     ]
    }
   ],
   "source": [
    "#3. Append an element to the end of a list.\n",
    "my_list = [1,2,3,4,5]\n",
    "my_list.append(6)\n",
    "print(\"List after appending 6 is:\",my_list)"
   ]
  },
  {
   "cell_type": "code",
   "execution_count": 57,
   "id": "e99159a8",
   "metadata": {},
   "outputs": [
    {
     "name": "stdout",
     "output_type": "stream",
     "text": [
      "List after insert 6 at inex 0 is: [6, 1, 2, 3, 4, 5]\n"
     ]
    }
   ],
   "source": [
    "#4. Insert an element at a specific index in a list.\n",
    "my_list = [1,2,3,4,5]\n",
    "my_list.insert(0,6)\n",
    "print(\"List after insert 6 at inex 0 is:\",my_list)"
   ]
  },
  {
   "cell_type": "code",
   "execution_count": 58,
   "id": "7f3f24f3",
   "metadata": {},
   "outputs": [
    {
     "name": "stdout",
     "output_type": "stream",
     "text": [
      "List after removing 3 is: [1, 2, 4, 5]\n"
     ]
    }
   ],
   "source": [
    "#5. Remove an element from a list by its value.\n",
    "my_list = [1,2,3,4,5]\n",
    "my_list.remove(3)\n",
    "print(\"List after removing 3 is:\",my_list)"
   ]
  },
  {
   "cell_type": "code",
   "execution_count": 59,
   "id": "95ad7afe",
   "metadata": {},
   "outputs": [
    {
     "name": "stdout",
     "output_type": "stream",
     "text": [
      "List after removing element at index 0 is: [2, 3, 4, 5]\n"
     ]
    }
   ],
   "source": [
    "#6. Remove an element from a list by its index.\n",
    "my_list = [1,2,3,4,5]\n",
    "my_list.pop(0)\n",
    "print(\"List after removing element at index 0 is:\",my_list)"
   ]
  },
  {
   "cell_type": "code",
   "execution_count": 60,
   "id": "b4edbbed",
   "metadata": {},
   "outputs": [
    {
     "name": "stdout",
     "output_type": "stream",
     "text": [
      "Enter element to check:4\n",
      "4 is exists in List\n"
     ]
    }
   ],
   "source": [
    "#7. Check if an element exists in a list.\n",
    "my_list = [1,2,3,4,5]\n",
    "e = eval(input(\"Enter element to check:\"))\n",
    "if e in my_list:\n",
    "    print(e,\"is exists in List\")\n",
    "else:\n",
    "    print(e,\"is not exists in List\")\n"
   ]
  },
  {
   "cell_type": "code",
   "execution_count": 61,
   "id": "7addd59d",
   "metadata": {},
   "outputs": [
    {
     "name": "stdout",
     "output_type": "stream",
     "text": [
      "Enter element to find occurance:1\n",
      "first occurrence of an element 1 is at index: 0\n"
     ]
    }
   ],
   "source": [
    "#8. Find the index of the first occurrence of an element in a list.\n",
    "my_list = [1,2,1,1,5]\n",
    "e = eval(input(\"Enter element to find occurance:\"))\n",
    "print(\"first occurrence of an element\",e,\"is at index:\",my_list.index(e))"
   ]
  },
  {
   "cell_type": "code",
   "execution_count": 62,
   "id": "5dd9c9ba",
   "metadata": {},
   "outputs": [
    {
     "name": "stdout",
     "output_type": "stream",
     "text": [
      "Enter element to find occurance:1\n",
      "number occurrence of an element 1 is: 3\n"
     ]
    }
   ],
   "source": [
    "#9. Count the occurrences of an element in a list.\n",
    "my_list = [1,2,1,1,5]\n",
    "e = eval(input(\"Enter element to find occurance:\"))\n",
    "print(\"number occurrence of an element\",e,\"is:\",my_list.count(e))"
   ]
  },
  {
   "cell_type": "code",
   "execution_count": 63,
   "id": "30d70906",
   "metadata": {},
   "outputs": [
    {
     "name": "stdout",
     "output_type": "stream",
     "text": [
      "Reverese order of list is: [5, 1, 1, 2, 1]\n"
     ]
    }
   ],
   "source": [
    "#10. Reverse the order of elements in a list.\n",
    "my_list = [1,2,1,1,5]\n",
    "print(\"Reverese order of list is:\",my_list[::-1])"
   ]
  },
  {
   "cell_type": "code",
   "execution_count": 64,
   "id": "5fbec0aa",
   "metadata": {},
   "outputs": [
    {
     "name": "stdout",
     "output_type": "stream",
     "text": [
      "ascending order of list is: [0, 1, 3, 34, 45]\n"
     ]
    }
   ],
   "source": [
    "#11. Sort a list in ascending order.\n",
    "my_list = [1,3,0,45,34]\n",
    "my_list.sort()\n",
    "print(\"ascending order of list is:\",my_list)"
   ]
  },
  {
   "cell_type": "code",
   "execution_count": 65,
   "id": "49a1a753",
   "metadata": {},
   "outputs": [
    {
     "name": "stdout",
     "output_type": "stream",
     "text": [
      "descending order of list is: [45, 34, 3, 1, 0]\n"
     ]
    }
   ],
   "source": [
    "#12. Sort a list in descending order.\n",
    "my_list = [1,3,0,45,34]\n",
    "my_list.sort(reverse=True)\n",
    "print(\"descending order of list is:\",my_list)"
   ]
  },
  {
   "cell_type": "code",
   "execution_count": 66,
   "id": "6dd1b661",
   "metadata": {},
   "outputs": [
    {
     "name": "stdout",
     "output_type": "stream",
     "text": [
      "list of even numbers from 1 to 20 is: [2, 4, 6, 8, 10, 12, 14, 16, 18, 20]\n"
     ]
    }
   ],
   "source": [
    "#13. Create a list of even numbers from 1 to 20.\n",
    "my_list = [i for i in range(2,21,2)]\n",
    "print(\"list of even numbers from 1 to 20 is:\",my_list)"
   ]
  },
  {
   "cell_type": "code",
   "execution_count": 67,
   "id": "39dc60ac",
   "metadata": {},
   "outputs": [
    {
     "name": "stdout",
     "output_type": "stream",
     "text": [
      "list of odd numbers from 1 to 20 is: [1, 3, 5, 7, 9, 11, 13, 15, 17, 19]\n"
     ]
    }
   ],
   "source": [
    "#14. Create a list of odd numbers from 1 to 20.\n",
    "my_list = [i for i in range(1,20,2)]\n",
    "print(\"list of odd numbers from 1 to 20 is:\",my_list)"
   ]
  },
  {
   "cell_type": "code",
   "execution_count": 68,
   "id": "d0715e3a",
   "metadata": {},
   "outputs": [
    {
     "name": "stdout",
     "output_type": "stream",
     "text": [
      "sum of all elements in a list is: 83\n"
     ]
    }
   ],
   "source": [
    "#15. Find the sum of all elements in a list.\n",
    "my_list = [1,3,0,45,34]\n",
    "print(\"sum of all elements in a list is:\",sum(my_list))"
   ]
  },
  {
   "cell_type": "code",
   "execution_count": 69,
   "id": "80da5c2b",
   "metadata": {},
   "outputs": [
    {
     "name": "stdout",
     "output_type": "stream",
     "text": [
      "maximum value in a listt is: 45\n"
     ]
    }
   ],
   "source": [
    "#16. Find the maximum value in a list.\n",
    "my_list = [1,3,0,45,34]\n",
    "print(\"maximum value in a listt is:\",max(my_list))"
   ]
  },
  {
   "cell_type": "code",
   "execution_count": 70,
   "id": "f3951e4b",
   "metadata": {},
   "outputs": [
    {
     "name": "stdout",
     "output_type": "stream",
     "text": [
      "minimum value in a list is: 0\n"
     ]
    }
   ],
   "source": [
    "#17. Find the minimum value in a list.\n",
    "my_list = [1,3,0,45,34]\n",
    "print(\"minimum value in a list is:\",min(my_list))"
   ]
  },
  {
   "cell_type": "code",
   "execution_count": 71,
   "id": "523abfca",
   "metadata": {},
   "outputs": [
    {
     "name": "stdout",
     "output_type": "stream",
     "text": [
      "Square of 1 to 10 is: [1, 4, 9, 16, 25, 36, 49, 64, 81, 100]\n"
     ]
    }
   ],
   "source": [
    "#18. Create a list of squares of numbers from 1 to 10.\n",
    "my_list = [i**2 for i in range(1,11)]\n",
    "print(\"Square of 1 to 10 is:\",my_list)"
   ]
  },
  {
   "cell_type": "code",
   "execution_count": 72,
   "id": "ff90ee1c",
   "metadata": {},
   "outputs": [
    {
     "name": "stdout",
     "output_type": "stream",
     "text": [
      "Random numbers list is: [1, 5, 1, 11, 7, 2, 13, 7, 19, 14]\n"
     ]
    }
   ],
   "source": [
    "#19. Create a list of random numbers.\n",
    "from random import randint\n",
    "\n",
    "my_list = []\n",
    "for i in range(10):\n",
    "    my_list.append(randint(1,20))\n",
    "print(\"Random numbers list is:\",my_list)"
   ]
  },
  {
   "cell_type": "code",
   "execution_count": 73,
   "id": "479513dc",
   "metadata": {},
   "outputs": [
    {
     "name": "stdout",
     "output_type": "stream",
     "text": [
      "After duplicates removal list is: [0, 1, 34, 3, 45]\n"
     ]
    }
   ],
   "source": [
    "#20. Remove duplicates from a list.\n",
    "my_list = [1,3,0,45,34,1,3]\n",
    "print(\"After duplicates removal list is:\",list(set(my_list)))\n",
    "\n"
   ]
  },
  {
   "cell_type": "code",
   "execution_count": 74,
   "id": "f12db563",
   "metadata": {},
   "outputs": [
    {
     "name": "stdout",
     "output_type": "stream",
     "text": [
      "common elements between two lists are: [0, 3, 45]\n"
     ]
    }
   ],
   "source": [
    "#21. Find the common elements between two lists.\n",
    "my_list1 = [1,3,0,45,34,1,3]\n",
    "my_list2 = [2,3,0,45,56,76]\n",
    "set1 = set(my_list1)\n",
    "set2 = set(my_list2)\n",
    "set3 = set1.intersection(set2)\n",
    "print(\"common elements between two lists are:\",list(set3))"
   ]
  },
  {
   "cell_type": "code",
   "execution_count": 75,
   "id": "6dd2e774",
   "metadata": {},
   "outputs": [
    {
     "name": "stdout",
     "output_type": "stream",
     "text": [
      "difference between two lists are: [1, 34, 1]\n"
     ]
    }
   ],
   "source": [
    "#22. Find the difference between two lists.\n",
    "my_list1 = [1,3,0,45,34,1,3]\n",
    "my_list2 = [2,3,0,45,56,76]\n",
    "temp = []\n",
    "for i in my_list1:\n",
    "    if i not in my_list2:\n",
    "        temp.append(i)\n",
    "print(\"difference between two lists are:\",temp)"
   ]
  },
  {
   "cell_type": "code",
   "execution_count": 76,
   "id": "da3e4ad1",
   "metadata": {},
   "outputs": [
    {
     "name": "stdout",
     "output_type": "stream",
     "text": [
      "After merging complete list is: [1, 3, 0, 45, 34, 1, 3, 2, 3, 0, 45, 56, 76]\n"
     ]
    }
   ],
   "source": [
    "#23. Merge two lists.\n",
    "my_list1 = [1,3,0,45,34,1,3]\n",
    "my_list2 = [2,3,0,45,56,76]\n",
    "print(\"After merging complete list is:\",my_list1+my_list2)"
   ]
  },
  {
   "cell_type": "code",
   "execution_count": 77,
   "id": "b5da5d26",
   "metadata": {},
   "outputs": [
    {
     "name": "stdout",
     "output_type": "stream",
     "text": [
      "After multiply by 2 list is: [2, 6, 0, 90, 68, 2, 6]\n"
     ]
    }
   ],
   "source": [
    "#24. Multiply all elements in a list by 2.\n",
    "my_list1 = [1,3,0,45,34,1,3]\n",
    "mul_by_2 = [i*2 for i in my_list]\n",
    "print(\"After multiply by 2 list is:\",mul_by_2)"
   ]
  },
  {
   "cell_type": "code",
   "execution_count": 78,
   "id": "6af5014c",
   "metadata": {},
   "outputs": [
    {
     "name": "stdout",
     "output_type": "stream",
     "text": [
      "After Filter out all even numbers from a list: [0, 34]\n"
     ]
    }
   ],
   "source": [
    "#25. Filter out all even numbers from a list.\n",
    "my_list1 = [1,3,0,45,34,1,3]\n",
    "Even = [i for i in my_list if i%2==0]\n",
    "print(\"After Filter out all even numbers from a list:\",Even)"
   ]
  },
  {
   "cell_type": "code",
   "execution_count": 79,
   "id": "80270dbd",
   "metadata": {},
   "outputs": [
    {
     "name": "stdout",
     "output_type": "stream",
     "text": [
      "After Converting a list of strings to a list of integers. [1, 3, 0, 45, 34, 1, 3]\n"
     ]
    }
   ],
   "source": [
    "#26. Convert a list of strings to a list of integers.\n",
    "my_list1 = ['1','3','0','45','34','1','3']\n",
    "list_int = [int(i) for i in my_list1]\n",
    "print(\"After Converting a list of strings to a list of integers.\",list_int)"
   ]
  },
  {
   "cell_type": "code",
   "execution_count": 80,
   "id": "b5ac2391",
   "metadata": {},
   "outputs": [
    {
     "name": "stdout",
     "output_type": "stream",
     "text": [
      "After Converting a list of integers to list of strings: ['1', '3', '0', '45', '34', '1', '3']\n"
     ]
    }
   ],
   "source": [
    "#27. Convert a list of integers to a list of strings.\n",
    "my_list1 = [1,3,0,45,34,1,3]\n",
    "list_str = [str(i) for i in my_list1]\n",
    "print(\"After Converting a list of integers to list of strings:\",list_str)"
   ]
  },
  {
   "cell_type": "code",
   "execution_count": 81,
   "id": "e2f488e7",
   "metadata": {},
   "outputs": [
    {
     "name": "stdout",
     "output_type": "stream",
     "text": [
      "Flatten list is: [1, 2, 3, 4, 5, 6, 7, 8, 9, 10]\n"
     ]
    }
   ],
   "source": [
    "#28. Flatten a nested list.\n",
    "my_list = [1, 2, [3, 4, [5, 6]], 7, 8, [9, [10]]]\n",
    "\n",
    "output = []\n",
    "\n",
    "def reemovNestings(my_list):\n",
    "    for i in my_list:\n",
    "        if type(i) == list:\n",
    "            reemovNestings(i)\n",
    "        else:\n",
    "            output.append(i)\n",
    "    return output\n",
    "            \n",
    "print(\"Flatten list is:\",reemovNestings(my_list))"
   ]
  },
  {
   "cell_type": "code",
   "execution_count": 82,
   "id": "966f4b1b",
   "metadata": {},
   "outputs": [
    {
     "name": "stdout",
     "output_type": "stream",
     "text": [
      "list of the first 10 Fibonacci numbers: [0, 1, 1, 2, 3, 5, 8, 13, 21, 34]\n"
     ]
    }
   ],
   "source": [
    "#29. Create a list of the first 10 Fibonacci numbers.\n",
    "num = 10\n",
    "n1, n2 = 0, 1\n",
    "my_list =[]\n",
    "my_list.extend([n1,n2])\n",
    "for i in range(2, num):\n",
    "    n3 = n1 + n2\n",
    "    n1 = n2\n",
    "    n2 = n3\n",
    "    my_list.append(n3)\n",
    "print(\"list of the first 10 Fibonacci numbers:\",my_list)"
   ]
  },
  {
   "cell_type": "code",
   "execution_count": 83,
   "id": "6c766a9e",
   "metadata": {},
   "outputs": [
    {
     "name": "stdout",
     "output_type": "stream",
     "text": [
      "List is sorted\n"
     ]
    }
   ],
   "source": [
    "#30. Check if a list is sorted.\n",
    "my_list = [1,2,3,4,5]\n",
    "\n",
    "if my_list==sorted(my_list):\n",
    "    print(\"List is sorted\")\n",
    "else:\n",
    "    print(\"List is not sorted\")"
   ]
  },
  {
   "cell_type": "code",
   "execution_count": 84,
   "id": "9ff24ba7",
   "metadata": {},
   "outputs": [
    {
     "name": "stdout",
     "output_type": "stream",
     "text": [
      "Enter position for left rotate: 4\n",
      "Original list is: [1, 2, 3, 4, 5, 6, 7, 8, 9, 10]\n",
      "Rotated list is: [5, 6, 7, 8, 9, 10, 1, 2, 3, 4]\n"
     ]
    }
   ],
   "source": [
    "#31. Rotate a list to the left by `n` positions.\n",
    "my_list = [1,2,3,4,5,6,7,8,9,10]\n",
    "n = int(input(\"Enter position for left rotate: \"))\n",
    "\n",
    "new_list = my_list[n:] + my_list[:n]\n",
    "print(\"Original list is:\",my_list)\n",
    "print(\"Rotated list is:\",new_list)"
   ]
  },
  {
   "cell_type": "code",
   "execution_count": 85,
   "id": "214c70d7",
   "metadata": {},
   "outputs": [
    {
     "name": "stdout",
     "output_type": "stream",
     "text": [
      "Enter position for right rotate4\n",
      "Original list is: [1, 2, 3, 4, 5, 6, 7, 8, 9, 10]\n",
      "Rotated list is: [7, 8, 9, 10, 1, 2, 3, 4, 5, 6]\n"
     ]
    }
   ],
   "source": [
    "#32. Rotate a list to the right by `n` positions.\n",
    "my_list = [1,2,3,4,5,6,7,8,9,10]\n",
    "n = int(input(\"Enter position for right rotate\"))\n",
    "\n",
    "new_list = my_list[-n:] + my_list[:-n]\n",
    "print(\"Original list is:\",my_list)\n",
    "print(\"Rotated list is:\",new_list)"
   ]
  },
  {
   "cell_type": "code",
   "execution_count": 86,
   "id": "e24c4bc4",
   "metadata": {},
   "outputs": [
    {
     "name": "stdout",
     "output_type": "stream",
     "text": [
      "[2, 3, 5, 7, 11, 13, 17, 19, 23, 29, 31, 37, 41, 43, 47]\n"
     ]
    }
   ],
   "source": [
    "#33. Create a list of prime numbers up to 50.\n",
    "print([i for i in range(2, 50) if 0 not in [i%n for n in range(2, i)]])"
   ]
  },
  {
   "cell_type": "code",
   "execution_count": 87,
   "id": "8c5f2e16",
   "metadata": {},
   "outputs": [
    {
     "name": "stdout",
     "output_type": "stream",
     "text": [
      "Enter chunk size: 3\n",
      "chunks split of given list is:  [[1, 2, 3], [4, 5, 6], [7, 8, 9]]\n"
     ]
    }
   ],
   "source": [
    "#34. Split a list into chunks of size `n`.\n",
    "my_list = [1,2,3,4,5,6,7,8,9]\n",
    "n = int(input(\"Enter chunk size: \"))\n",
    "chunk_list = []\n",
    "for i in range(0,len(my_list),n):\n",
    "    chunk_list.append(my_list[i:i+n])\n",
    "print(\"chunks split of given list is: \",chunk_list)"
   ]
  },
  {
   "cell_type": "code",
   "execution_count": 88,
   "id": "1e11513e",
   "metadata": {},
   "outputs": [
    {
     "name": "stdout",
     "output_type": "stream",
     "text": [
      "Second largest number in a list is:  9\n"
     ]
    }
   ],
   "source": [
    "#35. Find the second largest number in a list.\n",
    "my_list = [7, 8, 9, 10, 1, 2, 3, 4, 5, 6]\n",
    "my_list.sort()\n",
    "print(\"Second largest number in a list is: \",my_list[-2])"
   ]
  },
  {
   "cell_type": "code",
   "execution_count": 90,
   "id": "bef6fa8a",
   "metadata": {},
   "outputs": [
    {
     "name": "stdout",
     "output_type": "stream",
     "text": [
      "Square list is:  [49, 64, 81, 100, 1, 4, 9, 16, 25, 36]\n"
     ]
    }
   ],
   "source": [
    "#36. Replace every element in a list with its square.\n",
    "my_list = [7, 8, 9, 10, 1, 2, 3, 4, 5, 6]\n",
    "my_list = [i**2 for i in my_list]\n",
    "print(\"Square list is: \",my_list)"
   ]
  },
  {
   "cell_type": "code",
   "execution_count": 91,
   "id": "c39f1397",
   "metadata": {},
   "outputs": [
    {
     "name": "stdout",
     "output_type": "stream",
     "text": [
      "{7: 0, 8: 1, 9: 2, 10: 3, 1: 4, 2: 5, 3: 6, 4: 7, 5: 8, 6: 9}\n"
     ]
    }
   ],
   "source": [
    "#37. Convert a list to a dictionary where list elements become keys and their indices become values.\n",
    "my_list = [7, 8, 9, 10, 1, 2, 3, 4, 5, 6]\n",
    "index_list = [i for i in range(len(my_list))]\n",
    "dict1 = dict(zip(my_list,index_list))\n",
    "print(dict1)"
   ]
  },
  {
   "cell_type": "code",
   "execution_count": 92,
   "id": "448e2f53",
   "metadata": {},
   "outputs": [
    {
     "name": "stdout",
     "output_type": "stream",
     "text": [
      "Shuffled list: [1, 4, 2, 8, 9, 10, 5, 6, 7, 3]\n"
     ]
    }
   ],
   "source": [
    "#38. Shuffle the elements of a list randomly.\n",
    "import random\n",
    "my_list = [1, 2, 3, 4, 5, 6, 7, 8, 9, 10]\n",
    "random.shuffle(my_list)\n",
    "print(\"Shuffled list:\", my_list)"
   ]
  },
  {
   "cell_type": "code",
   "execution_count": 93,
   "id": "9d0650c5",
   "metadata": {},
   "outputs": [
    {
     "name": "stdout",
     "output_type": "stream",
     "text": [
      "list of the first 10 factorial numbers:  [1, 2, 6, 24, 120, 720, 5040, 40320, 362880]\n"
     ]
    }
   ],
   "source": [
    "#39. Create a list of the first 10 factorial numbers.\n",
    "fact = []\n",
    "\n",
    "for n in range(1,10):\n",
    "    factorial=1\n",
    "    for i in range(1,n+1):\n",
    "        factorial = factorial*i\n",
    "    fact.append(factorial)\n",
    "print(\"list of the first 10 factorial numbers: \",fact )"
   ]
  },
  {
   "cell_type": "code",
   "execution_count": 94,
   "id": "1ff1e1fa",
   "metadata": {},
   "outputs": [
    {
     "name": "stdout",
     "output_type": "stream",
     "text": [
      "Nothing is common\n"
     ]
    }
   ],
   "source": [
    "#40. Check if two lists have at least one element in common.\n",
    "my_list1 = [1,3,0,45,34,1,3]\n",
    "my_list2 = [2,-3,11,23]\n",
    "#my_list2 = [2,3,0,45,56,76]\n",
    "\n",
    "set1 = set(my_list1)\n",
    "set2 = set(my_list2)\n",
    "set3 = set1.intersection(set2)\n",
    "if list(set3)==[]:\n",
    "    print(\"Nothing is common\")\n",
    "else:\n",
    "    print(\"Common elements are: \",list(set3))\n"
   ]
  },
  {
   "cell_type": "code",
   "execution_count": 95,
   "id": "90baa6f3",
   "metadata": {},
   "outputs": [
    {
     "name": "stdout",
     "output_type": "stream",
     "text": [
      "After removing all elements from list: []\n"
     ]
    }
   ],
   "source": [
    "#41. Remove all elements from a list.\n",
    "my_list1 = [1,3,0,45,34,1,3]\n",
    "my_list1.clear()\n",
    "print(\"After removing all elements from list:\",my_list1)"
   ]
  },
  {
   "cell_type": "code",
   "execution_count": 97,
   "id": "d79a3701",
   "metadata": {},
   "outputs": [
    {
     "name": "stdout",
     "output_type": "stream",
     "text": [
      "List after replacing negative numbers with 0: [1, 0, 0, 45, 0, 1, 3]\n"
     ]
    }
   ],
   "source": [
    "#42. Replace negative numbers in a list with 0.\n",
    "my_list = [1,-3,0,45,-34,1,3]\n",
    "for i in range(len(my_list)):\n",
    "    if my_list[i] < 0:\n",
    "        my_list[i] = 0\n",
    "\n",
    "print(\"List after replacing negative numbers with 0:\", my_list)"
   ]
  },
  {
   "cell_type": "code",
   "execution_count": 98,
   "id": "fea4b44c",
   "metadata": {},
   "outputs": [
    {
     "name": "stdout",
     "output_type": "stream",
     "text": [
      "Enter A string: hi how are you\n",
      "string into a list of words: ['hi', 'how', 'are', 'you']\n"
     ]
    }
   ],
   "source": [
    "#43. Convert a string into a list of words.\n",
    "my_string = input(\"Enter A string: \")\n",
    "my_list = my_string.split(' ')\n",
    "print(\"string into a list of words:\",my_list)"
   ]
  },
  {
   "cell_type": "code",
   "execution_count": 99,
   "id": "71aad7fa",
   "metadata": {},
   "outputs": [
    {
     "name": "stdout",
     "output_type": "stream",
     "text": [
      "list of words into a string: I am human\n"
     ]
    }
   ],
   "source": [
    "#44. Convert a list of words into a string.\n",
    "my_list =  ['I', 'am', 'human']\n",
    "my_string = ' '.join(my_list)\n",
    "print(\"list of words into a string:\",my_string)"
   ]
  },
  {
   "cell_type": "code",
   "execution_count": 100,
   "id": "dd75dfd4",
   "metadata": {},
   "outputs": [
    {
     "name": "stdout",
     "output_type": "stream",
     "text": [
      "Please eneter value of n: 5\n",
      "list of the first 5 powers of 2:  [1, 2, 4, 8, 16, 32]\n"
     ]
    }
   ],
   "source": [
    "#45. Create a list of the first `n` powers of 2.\n",
    "n = int(input(\"Please eneter value of n: \"))\n",
    "my_list=[2**n for n in range(n+1)]\n",
    "print(\"list of the first\", n, \"powers of 2: \",my_list)"
   ]
  },
  {
   "cell_type": "code",
   "execution_count": 101,
   "id": "cbcb674d",
   "metadata": {},
   "outputs": [
    {
     "name": "stdout",
     "output_type": "stream",
     "text": [
      "longest string in a list of strings:  human  with length: 5\n"
     ]
    }
   ],
   "source": [
    "#46. Find the longest string in a list of strings.\n",
    "my_list =  ['I', 'am', 'human']\n",
    "len_list = []\n",
    "for i in my_list:\n",
    "    len_list.append(len(i))\n",
    "l_index = len_list.index(max(len_list))\n",
    "long_word = my_list[l_index]\n",
    "print(\"longest string in a list of strings: \",long_word,\" with length:\",max(len_list))"
   ]
  },
  {
   "cell_type": "code",
   "execution_count": 102,
   "id": "81baa0d8",
   "metadata": {},
   "outputs": [
    {
     "name": "stdout",
     "output_type": "stream",
     "text": [
      "shortest string in a list of strings:  I  with length: 1\n"
     ]
    }
   ],
   "source": [
    "#47. Find the shortest string in a list of strings.\n",
    "my_list =  ['I', 'am', 'human']\n",
    "len_list = []\n",
    "for i in my_list:\n",
    "    len_list.append(len(i))\n",
    "l_index = len_list.index(min(len_list))\n",
    "short_word = my_list[l_index]\n",
    "print(\"shortest string in a list of strings: \",short_word,\" with length:\",min(len_list))"
   ]
  },
  {
   "cell_type": "code",
   "execution_count": 103,
   "id": "6aee8852",
   "metadata": {},
   "outputs": [
    {
     "name": "stdout",
     "output_type": "stream",
     "text": [
      "list of the first `n` triangular numbers: [1, 3, 6, 10, 15, 21, 28, 36, 45, 55]\n"
     ]
    }
   ],
   "source": [
    "#48. Create a list of the first `n` triangular numbers.\n",
    "limit = 10\n",
    "triangle_nums = []\n",
    "num = 0\n",
    "\n",
    "for i in range(1, limit + 1):\n",
    "    num += i\n",
    "    triangle_nums.append(num)\n",
    "print(\"list of the first `n` triangular numbers:\",triangle_nums)"
   ]
  },
  {
   "cell_type": "code",
   "execution_count": 104,
   "id": "86d59f95",
   "metadata": {},
   "outputs": [
    {
     "name": "stdout",
     "output_type": "stream",
     "text": [
      "Main list contains the subsequence.\n"
     ]
    }
   ],
   "source": [
    "#49. Check if a list contains another list as a subsequence.\n",
    "def is_subsequence(subsequence, main_list):\n",
    "    subseq_index = 0  # Index for the subsequence elements\n",
    "    for element in main_list:\n",
    "        if element == subsequence[subseq_index]:\n",
    "            subseq_index += 1\n",
    "            if subseq_index == len(subsequence):\n",
    "                return True\n",
    "    return False\n",
    "\n",
    "# Example main list and subsequence\n",
    "main_list = [1, 2, 3, 4, 5, 6, 7, 8, 9, 10]\n",
    "subsequence = [3, 5, 8]\n",
    "\n",
    "# Check if the main list contains the subsequence\n",
    "if is_subsequence(subsequence, main_list):\n",
    "    print(\"Main list contains the subsequence.\")\n",
    "else:\n",
    "    print(\"Main list does not contain the subsequence.\")"
   ]
  },
  {
   "cell_type": "code",
   "execution_count": 106,
   "id": "d64972bf",
   "metadata": {},
   "outputs": [
    {
     "name": "stdout",
     "output_type": "stream",
     "text": [
      "Enter index1 to swap: 0\n",
      "Enter index2 to swap: 4\n",
      "List after swapping element at index 0 & 4 is [34, 3, 0, 45, 1, 1, 3]\n"
     ]
    }
   ],
   "source": [
    "#50. Swap two elements in a list by their indices.\n",
    "my_list1 = [1,3,0,45,34,1,3]\n",
    "\n",
    "index1 = int(input(\"Enter index1 to swap: \"))\n",
    "index2 = int(input(\"Enter index2 to swap: \"))\n",
    "my_list1[index1],my_list1[index2] = my_list1[index2],my_list1[index1]\n",
    "\n",
    "print(f\"List after swapping element at index {index1} & {index2} is {my_list1}\")"
   ]
  },
  {
   "cell_type": "markdown",
   "id": "0e3a2258",
   "metadata": {},
   "source": [
    "# Tuple Based Practice Problem :"
   ]
  },
  {
   "cell_type": "code",
   "execution_count": 107,
   "id": "5b9b4a0d",
   "metadata": {},
   "outputs": [
    {
     "name": "stdout",
     "output_type": "stream",
     "text": [
      "tuple with integers from 1 to 5:  (1, 2, 3, 4, 5)\n"
     ]
    }
   ],
   "source": [
    "#1. Create a tuple with integers from 1 to 5.\n",
    "tup = (1,2,3,4,5)\n",
    "print(\"tuple with integers from 1 to 5: \",tup)"
   ]
  },
  {
   "cell_type": "code",
   "execution_count": 108,
   "id": "2615b332",
   "metadata": {},
   "outputs": [
    {
     "name": "stdout",
     "output_type": "stream",
     "text": [
      "third element of a tuple:  3\n"
     ]
    }
   ],
   "source": [
    "#2. Access the third element of a tuple.\n",
    "tup = (1,2,3,4,5)\n",
    "print(\"third element of a tuple: \",tup[2])"
   ]
  },
  {
   "cell_type": "code",
   "execution_count": 109,
   "id": "b0c33e5e",
   "metadata": {},
   "outputs": [
    {
     "name": "stdout",
     "output_type": "stream",
     "text": [
      "lenght of tuple is: 5\n"
     ]
    }
   ],
   "source": [
    "#3. Find the length of a tuple without using the `len()` function.\n",
    "tup = (1,2,3,4,5)\n",
    "count = 0\n",
    "for i in tup:\n",
    "    count +=1\n",
    "print(\"lenght of tuple is:\",count)"
   ]
  },
  {
   "cell_type": "code",
   "execution_count": 110,
   "id": "0d8410a3",
   "metadata": {},
   "outputs": [
    {
     "name": "stdout",
     "output_type": "stream",
     "text": [
      "Enter the element to count occurrences: 2\n",
      "occurrences of an element 2 in a tuple is 3\n"
     ]
    }
   ],
   "source": [
    "#4. Count the occurrences of an element in a tuple.\n",
    "tup = (1,2,3,4,5,1,2,3,2,1)\n",
    "e = eval(input(\"Enter the element to count occurrences: \"))\n",
    "print(\"occurrences of an element\",e,\"in a tuple is\",tup.count(e))"
   ]
  },
  {
   "cell_type": "code",
   "execution_count": 111,
   "id": "8e103f53",
   "metadata": {},
   "outputs": [
    {
     "name": "stdout",
     "output_type": "stream",
     "text": [
      "Enter the element to check first occurrences: 3\n",
      "First occurrences of an element 3 in a tuple is 2\n"
     ]
    }
   ],
   "source": [
    "#5. Find the index of the first occurrence of an element in a tuple.\n",
    "tup = (1,2,3,4,5,1,2,3,2,1)\n",
    "e = eval(input(\"Enter the element to check first occurrences: \"))\n",
    "print(\"First occurrences of an element\",e,\"in a tuple is\",tup.index(e))"
   ]
  },
  {
   "cell_type": "code",
   "execution_count": 112,
   "id": "76da9d32",
   "metadata": {},
   "outputs": [
    {
     "name": "stdout",
     "output_type": "stream",
     "text": [
      "Enter the element to check existance: 3\n",
      "3 is present in (1, 2, 3, 4, 5)\n"
     ]
    }
   ],
   "source": [
    "#6. Check if an element exists in a tuple.\n",
    "tup = (1,2,3,4,5)\n",
    "e = eval(input(\"Enter the element to check existance: \"))\n",
    "if e in tup:\n",
    "    print(e,\"is present in\",tup)\n",
    "else:\n",
    "    print(e,\"is present in\",tup)"
   ]
  },
  {
   "cell_type": "code",
   "execution_count": 113,
   "id": "5def5c92",
   "metadata": {},
   "outputs": [
    {
     "name": "stdout",
     "output_type": "stream",
     "text": [
      "Converted tuple to list is:  [1, 2, 3, 4, 5]\n"
     ]
    }
   ],
   "source": [
    "#7. Convert a tuple to a list.\n",
    "tup = (1,2,3,4,5)\n",
    "my_list = list(tup)\n",
    "print(\"Converted tuple to list is: \",my_list)"
   ]
  },
  {
   "cell_type": "code",
   "execution_count": 114,
   "id": "9920344a",
   "metadata": {},
   "outputs": [
    {
     "name": "stdout",
     "output_type": "stream",
     "text": [
      "Converted list to tuple is:  (1, 2, 3, 4, 5)\n"
     ]
    }
   ],
   "source": [
    "#8. Convert a list to a tuple.\n",
    "my_list = [1,2,3,4,5]\n",
    "tup = tuple(my_list)\n",
    "print(\"Converted list to tuple is: \",tup)"
   ]
  },
  {
   "cell_type": "code",
   "execution_count": 116,
   "id": "acb286d0",
   "metadata": {},
   "outputs": [
    {
     "name": "stdout",
     "output_type": "stream",
     "text": [
      "var1: 10\n",
      "var2: 20\n",
      "var3: 30\n"
     ]
    }
   ],
   "source": [
    "#9. Unpack the elements of a tuple into variables.\n",
    "my_tuple = (10, 20, 30)\n",
    "\n",
    "var1, var2, var3 = my_tuple\n",
    "\n",
    "print(\"var1:\", var1)\n",
    "print(\"var2:\", var2)\n",
    "print(\"var3:\", var3)"
   ]
  },
  {
   "cell_type": "code",
   "execution_count": 117,
   "id": "5bd71a37",
   "metadata": {},
   "outputs": [
    {
     "name": "stdout",
     "output_type": "stream",
     "text": [
      "tuple of even numbers from 1 to 10 is:  (2, 4, 6, 8, 10)\n"
     ]
    }
   ],
   "source": [
    "#10. Create a tuple of even numbers from 1 to 10.\n",
    "tup = tuple([i for i in range(2,11,2)])\n",
    "print(\"tuple of even numbers from 1 to 10 is: \",tup)"
   ]
  },
  {
   "cell_type": "code",
   "execution_count": 118,
   "id": "ff258450",
   "metadata": {},
   "outputs": [
    {
     "name": "stdout",
     "output_type": "stream",
     "text": [
      "tuple of odd numbers from 1 to 10 is:  (1, 3, 5, 7, 9)\n"
     ]
    }
   ],
   "source": [
    "#11. Create a tuple of odd numbers from 1 to 10.\n",
    "tup = tuple([i for i in range(1,10,2)])\n",
    "print(\"tuple of odd numbers from 1 to 10 is: \",tup)"
   ]
  },
  {
   "cell_type": "code",
   "execution_count": 119,
   "id": "842c1cef",
   "metadata": {},
   "outputs": [
    {
     "name": "stdout",
     "output_type": "stream",
     "text": [
      "Concated tuple is: (1, 2, 3, 4, 5, 6, 7, 8, 9, 10)\n"
     ]
    }
   ],
   "source": [
    "#12. Concatenate two tuples.\n",
    "tup1 = (1,2,3,4,5)\n",
    "tup2 = (6,7,8,9,10)\n",
    "print(\"Concated tuple is:\",tup1+tup2)"
   ]
  },
  {
   "cell_type": "code",
   "execution_count": 120,
   "id": "053af09a",
   "metadata": {},
   "outputs": [
    {
     "name": "stdout",
     "output_type": "stream",
     "text": [
      "tuple*3 is:  (1, 2, 3, 4, 5, 1, 2, 3, 4, 5, 1, 2, 3, 4, 5)\n"
     ]
    }
   ],
   "source": [
    "#13. Repeat a tuple three times.\n",
    "tup1 = (1,2,3,4,5)\n",
    "print(\"tuple*3 is: \",tup1*3)"
   ]
  },
  {
   "cell_type": "code",
   "execution_count": 121,
   "id": "e447a4e3",
   "metadata": {},
   "outputs": [
    {
     "name": "stdout",
     "output_type": "stream",
     "text": [
      "Tuple is not empty\n"
     ]
    }
   ],
   "source": [
    "#14. Check if a tuple is empty.\n",
    "tup1 = (1,2,3,4,5)\n",
    "if tup1==():\n",
    "    print(\"Tuple is empty\")\n",
    "else:\n",
    "      print(\"Tuple is not empty\")"
   ]
  },
  {
   "cell_type": "code",
   "execution_count": 122,
   "id": "2cc5064a",
   "metadata": {},
   "outputs": [
    {
     "name": "stdout",
     "output_type": "stream",
     "text": [
      "The nested tuple ((5, 4), (1, 6))\n"
     ]
    }
   ],
   "source": [
    "#15. Create a nested tuple.\n",
    "tup1 = (5, 4)  \n",
    "tup2 = (1, 6)  \n",
    "nested = ((tup1, ) + (tup2, ))\n",
    "print(\"The nested tuple \" + str(nested))"
   ]
  },
  {
   "cell_type": "code",
   "execution_count": 123,
   "id": "0ee27fc5",
   "metadata": {},
   "outputs": [
    {
     "name": "stdout",
     "output_type": "stream",
     "text": [
      "the first element of a nested tuple is:  (5, 4)\n"
     ]
    }
   ],
   "source": [
    "#16. Access the first element of a nested tuple.\n",
    "nested_tup = ((5, 4), (1, 6))\n",
    "print(\"the first element of a nested tuple is: \",nested_tup[0])"
   ]
  },
  {
   "cell_type": "code",
   "execution_count": 124,
   "id": "b5c50730",
   "metadata": {},
   "outputs": [
    {
     "name": "stdout",
     "output_type": "stream",
     "text": [
      "tuple with a single element is:  (1,)\n"
     ]
    }
   ],
   "source": [
    "#17. Create a tuple with a single element.\n",
    "print(\"tuple with a single element is: \",(1,))"
   ]
  },
  {
   "cell_type": "code",
   "execution_count": 125,
   "id": "e5ac2f50",
   "metadata": {},
   "outputs": [
    {
     "name": "stdout",
     "output_type": "stream",
     "text": [
      "tuple1 == tuple2: False\n",
      "tuple1 != tuple2: True\n",
      "tuple1 < tuple2: True\n",
      "tuple1 <= tuple2: True\n",
      "tuple1 > tuple2: False\n",
      "tuple1 >= tuple2: False\n"
     ]
    }
   ],
   "source": [
    "#18. Compare two tuples.\n",
    "\n",
    "tuple1 = (1, 2, 3)\n",
    "tuple2 = (1, 2, 4)\n",
    "\n",
    "print(\"tuple1 == tuple2:\", tuple1 == tuple2)  # Equality check\n",
    "print(\"tuple1 != tuple2:\", tuple1 != tuple2)  # Inequality check\n",
    "print(\"tuple1 < tuple2:\", tuple1 < tuple2)    # Less than check\n",
    "print(\"tuple1 <= tuple2:\", tuple1 <= tuple2)  # Less than or equal to check\n",
    "print(\"tuple1 > tuple2:\", tuple1 > tuple2)    # Greater than check\n",
    "print(\"tuple1 >= tuple2:\", tuple1 >= tuple2)  # Greater than or equal to check"
   ]
  },
  {
   "cell_type": "code",
   "execution_count": 126,
   "id": "2732a3ad",
   "metadata": {},
   "outputs": [
    {
     "ename": "NameError",
     "evalue": "name 'tup1' is not defined",
     "output_type": "error",
     "traceback": [
      "\u001b[1;31m---------------------------------------------------------------------------\u001b[0m",
      "\u001b[1;31mNameError\u001b[0m                                 Traceback (most recent call last)",
      "\u001b[1;32m<ipython-input-126-c8ab5daf01fd>\u001b[0m in \u001b[0;36m<module>\u001b[1;34m\u001b[0m\n\u001b[0;32m      2\u001b[0m \u001b[0mtup1\u001b[0m \u001b[1;33m=\u001b[0m \u001b[1;33m(\u001b[0m\u001b[1;36m5\u001b[0m\u001b[1;33m,\u001b[0m \u001b[1;36m4\u001b[0m\u001b[1;33m)\u001b[0m\u001b[1;33m\u001b[0m\u001b[1;33m\u001b[0m\u001b[0m\n\u001b[0;32m      3\u001b[0m \u001b[1;32mdel\u001b[0m\u001b[1;33m(\u001b[0m\u001b[0mtup1\u001b[0m\u001b[1;33m)\u001b[0m\u001b[1;33m\u001b[0m\u001b[1;33m\u001b[0m\u001b[0m\n\u001b[1;32m----> 4\u001b[1;33m \u001b[0mtup1\u001b[0m\u001b[1;33m\u001b[0m\u001b[1;33m\u001b[0m\u001b[0m\n\u001b[0m",
      "\u001b[1;31mNameError\u001b[0m: name 'tup1' is not defined"
     ]
    }
   ],
   "source": [
    "#19. Delete a tuple.\n",
    "tup1 = (5, 4)\n",
    "del(tup1)\n",
    "tup1"
   ]
  },
  {
   "cell_type": "code",
   "execution_count": 127,
   "id": "b1860d02",
   "metadata": {},
   "outputs": [
    {
     "name": "stdout",
     "output_type": "stream",
     "text": [
      "Slice os tuple:  (1, 2)\n"
     ]
    }
   ],
   "source": [
    "#20. Slice a tuple.\n",
    "tup1 = (1,2,3,4,5)\n",
    "print(\"Slice os tuple: \",tup1[0:2])"
   ]
  },
  {
   "cell_type": "code",
   "execution_count": 128,
   "id": "1db22420",
   "metadata": {},
   "outputs": [
    {
     "name": "stdout",
     "output_type": "stream",
     "text": [
      "maximum value in a tuple:  5\n"
     ]
    }
   ],
   "source": [
    "#21. Find the maximum value in a tuple.\n",
    "tup1 = (1,2,3,4,5)\n",
    "print(\"maximum value in a tuple: \",max(tup1))"
   ]
  },
  {
   "cell_type": "code",
   "execution_count": 129,
   "id": "db5cc8de",
   "metadata": {},
   "outputs": [
    {
     "name": "stdout",
     "output_type": "stream",
     "text": [
      "minimum value in a tuple:  1\n"
     ]
    }
   ],
   "source": [
    "#22. Find the minimum value in a tuple.\n",
    "tup1 = (1,2,3,4,5)\n",
    "print(\"minimum value in a tuple: \",min(tup1))"
   ]
  },
  {
   "cell_type": "code",
   "execution_count": 130,
   "id": "374f59f3",
   "metadata": {},
   "outputs": [
    {
     "name": "stdout",
     "output_type": "stream",
     "text": [
      "Enter a string: python\n",
      "Converted a string to a tuple of characters:  ('p', 'y', 't', 'h', 'o', 'n')\n"
     ]
    }
   ],
   "source": [
    "#23. Convert a string to a tuple of characters.\n",
    "string = input(\"Enter a string: \")\n",
    "print(\"Converted a string to a tuple of characters: \",tuple(string))"
   ]
  },
  {
   "cell_type": "code",
   "execution_count": 131,
   "id": "2133b16a",
   "metadata": {},
   "outputs": [
    {
     "name": "stdout",
     "output_type": "stream",
     "text": [
      "Converted tuple of characters to string:  aniket\n"
     ]
    }
   ],
   "source": [
    "#24. Convert a tuple of characters to a string.\n",
    "tup = ('a', 'n', 'i', 'k', 'e', 't')\n",
    "string = ''.join(tup)\n",
    "print(\"Converted tuple of characters to string: \",string)"
   ]
  },
  {
   "cell_type": "code",
   "execution_count": 132,
   "id": "dc1bc631",
   "metadata": {},
   "outputs": [
    {
     "name": "stdout",
     "output_type": "stream",
     "text": [
      "List to tuple:  (1, 2, 3, 4, 5)\n",
      "Set to tuple:  (1, 2, 3)\n",
      "string to tuple:  ('H', 'e', 'l', 'l', 'o', ' ', 'p', 'y', 't', 'h', 'o', 'n')\n"
     ]
    }
   ],
   "source": [
    "#25. Create a tuple from multiple data types.\n",
    "list1 = [1,2,3,4,5]\n",
    "set1 = {1,2,1,2,3}\n",
    "string = \"Hello python\"\n",
    "print(\"List to tuple: \",tuple(list1))\n",
    "print(\"Set to tuple: \",tuple(set1))\n",
    "print(\"string to tuple: \",tuple(string))"
   ]
  },
  {
   "cell_type": "code",
   "execution_count": 133,
   "id": "868b5992",
   "metadata": {},
   "outputs": [
    {
     "name": "stdout",
     "output_type": "stream",
     "text": [
      "Both tuple are not identical\n"
     ]
    }
   ],
   "source": [
    "#26. Check if two tuples are identical.\n",
    "tup1 = (5, 4)  \n",
    "tup2 = (1, 6)\n",
    "if tup1==tup2:\n",
    "    print(\"Both tuple are identical\")\n",
    "else:\n",
    "    print(\"Both tuple are not identical\")"
   ]
  },
  {
   "cell_type": "code",
   "execution_count": 134,
   "id": "a7003021",
   "metadata": {},
   "outputs": [
    {
     "name": "stdout",
     "output_type": "stream",
     "text": [
      "Sorted elemts of a tuple:  (1, 2, 3, 4, 5, 6)\n"
     ]
    }
   ],
   "source": [
    "#27. Sort the elements of a tuple.\n",
    "tup = (2,1,3,6,5,4)\n",
    "tup_sort = tuple(sorted(tup))\n",
    "print(\"Sorted elemts of a tuple: \",tup_sort)"
   ]
  },
  {
   "cell_type": "code",
   "execution_count": 135,
   "id": "ee6ee9eb",
   "metadata": {},
   "outputs": [
    {
     "name": "stdout",
     "output_type": "stream",
     "text": [
      "Converted a tuple of integers to a tuple of strings: ('2', '1', '3', '6', '5', '4')\n"
     ]
    }
   ],
   "source": [
    "#28. Convert a tuple of integers to a tuple of strings.\n",
    "tup = (2,1,3,6,5,4)\n",
    "lst = []\n",
    "for i in range(len(tup)):\n",
    "    a = tup[i]\n",
    "    lst.append(str(a))\n",
    "print(\"Converted a tuple of integers to a tuple of strings:\",tuple(lst))"
   ]
  },
  {
   "cell_type": "code",
   "execution_count": 136,
   "id": "4f75c8ae",
   "metadata": {},
   "outputs": [
    {
     "name": "stdout",
     "output_type": "stream",
     "text": [
      "Converted a tuple of strings to a tuple of integers: (2, 1, 3, 6, 5, 4)\n"
     ]
    }
   ],
   "source": [
    "#29. Convert a tuple of strings to a tuple of integers.\n",
    "tup = ('2', '1', '3', '6', '5', '4')\n",
    "lst = []\n",
    "for i in range(len(tup)):\n",
    "    a = tup[i]\n",
    "    lst.append(int(a))\n",
    "print(\"Converted a tuple of strings to a tuple of integers:\",tuple(lst))"
   ]
  },
  {
   "cell_type": "code",
   "execution_count": 137,
   "id": "70be5fa8",
   "metadata": {},
   "outputs": [
    {
     "name": "stdout",
     "output_type": "stream",
     "text": [
      "Merge tuple is: (1, 2, 3, 4, 5, 6, 7, 8, 9, 10)\n"
     ]
    }
   ],
   "source": [
    "#30. Merge two tuples.\n",
    "tup1 = (1,2,3,4,5)\n",
    "tup2 = (6,7,8,9,10)\n",
    "print(\"Merge tuple is:\",tup1+tup2)"
   ]
  },
  {
   "cell_type": "code",
   "execution_count": 138,
   "id": "d2dcdb37",
   "metadata": {},
   "outputs": [
    {
     "name": "stdout",
     "output_type": "stream",
     "text": [
      "Flatten tuple is: (1, 2, 3, 4, 5, 6, 7, 8, 9, 10)\n"
     ]
    }
   ],
   "source": [
    "#31. Flatten a nested tuple.\n",
    "my_tup = (1, 2, (3, 4, (5, 6)), 7, 8, (9, (10)))\n",
    "\n",
    "output = []\n",
    "\n",
    "def removeNestings(my_tup):\n",
    "    for i in my_tup:\n",
    "        if type(i) == tuple:\n",
    "            removeNestings(i)\n",
    "        else:\n",
    "            output.append(i)\n",
    "    return output\n",
    "            \n",
    "print(\"Flatten tuple is:\",tuple(removeNestings(my_tup)))"
   ]
  },
  {
   "cell_type": "code",
   "execution_count": 140,
   "id": "7948d1df",
   "metadata": {},
   "outputs": [
    {
     "name": "stdout",
     "output_type": "stream",
     "text": [
      "(2, 3, 5, 7, 11)\n"
     ]
    }
   ],
   "source": [
    "#32. Create a tuple of the first 5 prime numbers.\n",
    "print(tuple([i for i in range(2, 12) if 0 not in [i%n for n in range(2, i)]]))"
   ]
  },
  {
   "cell_type": "code",
   "execution_count": 141,
   "id": "9461c112",
   "metadata": {},
   "outputs": [
    {
     "name": "stdout",
     "output_type": "stream",
     "text": [
      "Given tuple is palindrome\n"
     ]
    }
   ],
   "source": [
    "#33. Check if a tuple is a palindrome.\n",
    "tup1 = (1,2,3,2,1)\n",
    "\n",
    "#Check for palindrome\n",
    "if tup1==tup1[::-1]:\n",
    "    print(\"Given tuple is palindrome\")\n",
    "else:\n",
    "    print(\"Given tuple is not a palindrome\")"
   ]
  },
  {
   "cell_type": "code",
   "execution_count": 142,
   "id": "90946df2",
   "metadata": {},
   "outputs": [
    {
     "name": "stdout",
     "output_type": "stream",
     "text": [
      "(1, 4, 9, 16, 25)\n"
     ]
    }
   ],
   "source": [
    "#34. Create a tuple of squares of numbers from 1 to 5.\n",
    "print(tuple([i*i for i in range(1, 6)]))"
   ]
  },
  {
   "cell_type": "code",
   "execution_count": 145,
   "id": "882eec23",
   "metadata": {},
   "outputs": [
    {
     "name": "stdout",
     "output_type": "stream",
     "text": [
      "tuple of even numbers is:  (2, 4, 6, 8, 10)\n"
     ]
    }
   ],
   "source": [
    "#35. Filter out all even numbers from a tuple.\n",
    "tup = (1, 2, 3, 4, 5, 6, 7, 8, 9, 10)\n",
    "tup = tuple(i for i in tup if i%2==0)\n",
    "print(\"tuple of even numbers is: \",tup)"
   ]
  },
  {
   "cell_type": "code",
   "execution_count": 144,
   "id": "999b2fc6",
   "metadata": {},
   "outputs": [
    {
     "name": "stdout",
     "output_type": "stream",
     "text": [
      "Multiply all elements in a tuple by 2:  (2, 4, 6, 8, 10, 12, 14, 16, 18, 20)\n"
     ]
    }
   ],
   "source": [
    "#36. Multiply all elements in a tuple by 2.\n",
    "tup = (1, 2, 3, 4, 5, 6, 7, 8, 9, 10)\n",
    "tup = tuple(i*2 for i in tup)\n",
    "print(\"Multiply all elements in a tuple by 2: \",tup)"
   ]
  },
  {
   "cell_type": "code",
   "execution_count": 146,
   "id": "45666031",
   "metadata": {},
   "outputs": [
    {
     "name": "stdout",
     "output_type": "stream",
     "text": [
      "Random numbers tuple is: (13, 2, 9, 12, 17, 1, 1, 11, 11, 10)\n"
     ]
    }
   ],
   "source": [
    "#37. Create a tuple of random numbers.\n",
    "from random import randint\n",
    "\n",
    "my_list = []\n",
    "for i in range(10):\n",
    "    my_list.append(randint(1,20))\n",
    "print(\"Random numbers tuple is:\",tuple(my_list))"
   ]
  },
  {
   "cell_type": "code",
   "execution_count": 147,
   "id": "1c05dfdc",
   "metadata": {},
   "outputs": [
    {
     "name": "stdout",
     "output_type": "stream",
     "text": [
      "tup is not sorted\n"
     ]
    }
   ],
   "source": [
    "#38. Check if a tuple is sorted.\n",
    "tup = (1,2,3,4,5)\n",
    "\n",
    "if tup==sorted(tup):\n",
    "    print(\"tup is sorted\")\n",
    "else:\n",
    "    print(\"tup is not sorted\")"
   ]
  },
  {
   "cell_type": "code",
   "execution_count": 148,
   "id": "45d1e611",
   "metadata": {},
   "outputs": [
    {
     "name": "stdout",
     "output_type": "stream",
     "text": [
      "Enter position for left rotate: 5\n",
      "Original list is: (1, 2, 3, 4, 5, 6, 7, 8, 9, 10)\n",
      "Rotated list is: (6, 7, 8, 9, 10, 1, 2, 3, 4, 5)\n"
     ]
    }
   ],
   "source": [
    "#39. Rotate a tuple to the left by `n` positions.\n",
    "tup = (1,2,3,4,5,6,7,8,9,10)\n",
    "n = int(input(\"Enter position for left rotate: \"))\n",
    "\n",
    "new_tup = tup[n:] + tup[:n]\n",
    "print(\"Original list is:\",tup)\n",
    "print(\"Rotated list is:\",new_tup)"
   ]
  },
  {
   "cell_type": "code",
   "execution_count": 149,
   "id": "d7553174",
   "metadata": {},
   "outputs": [
    {
     "name": "stdout",
     "output_type": "stream",
     "text": [
      "Enter position for right rotate: 4\n",
      "Original list is: (1, 2, 3, 4, 5, 6, 7, 8, 9, 10)\n",
      "Rotated list is: (7, 8, 9, 10, 1, 2, 3, 4, 5, 6)\n"
     ]
    }
   ],
   "source": [
    "#40. Rotate a tuple to the right by `n` positions.\n",
    "tup = (1,2,3,4,5,6,7,8,9,10)\n",
    "n = int(input(\"Enter position for right rotate: \"))\n",
    "\n",
    "new_tup = tup[-n:] + tup[:-n]\n",
    "print(\"Original list is:\",tup)\n",
    "print(\"Rotated list is:\",new_tup)"
   ]
  },
  {
   "cell_type": "code",
   "execution_count": 150,
   "id": "3794d1a5",
   "metadata": {},
   "outputs": [
    {
     "name": "stdout",
     "output_type": "stream",
     "text": [
      "tuple of the first 10 Fibonacci numbers: (0, 1, 1, 2, 3)\n"
     ]
    }
   ],
   "source": [
    "#41. Create a tuple of the first 5 Fibonacci numbers.\n",
    "num = 5\n",
    "n1, n2 = 0, 1\n",
    "my_list =[]\n",
    "my_list.extend([n1,n2])\n",
    "for i in range(2, num):\n",
    "    n3 = n1 + n2\n",
    "    n1 = n2\n",
    "    n2 = n3\n",
    "    my_list.append(n3)\n",
    "print(\"tuple of the first 10 Fibonacci numbers:\",tuple(my_list))"
   ]
  },
  {
   "cell_type": "code",
   "execution_count": 151,
   "id": "84cd3dc5",
   "metadata": {},
   "outputs": [
    {
     "name": "stdout",
     "output_type": "stream",
     "text": [
      "Enter tuple values sepeated by commas: 1,2,3,4,5\n",
      "Entered tuple is:  (1, 2, 3, 4, 5)\n"
     ]
    }
   ],
   "source": [
    "#42. Create a tuple from user input.\n",
    "a = input(\"Enter tuple values sepeated by commas: \")\n",
    "a = tuple(eval(x) for x in a.split(\",\"))\n",
    "print(\"Entered tuple is: \",a)"
   ]
  },
  {
   "cell_type": "code",
   "execution_count": 152,
   "id": "3c153570",
   "metadata": {},
   "outputs": [
    {
     "name": "stdout",
     "output_type": "stream",
     "text": [
      "Enter index1 to swap: 0\n",
      "Enter index2 to swap: 4\n",
      "List after swapping element at index 0 & 4 is (34, 3, 0, 45, 1, 1, 3)\n"
     ]
    }
   ],
   "source": [
    "#43. Swap two elements in a tuple.\n",
    "my_tup = (1,3,0,45,34,1,3)\n",
    "my_list1 = list(my_tup)\n",
    "index1 = int(input(\"Enter index1 to swap: \"))\n",
    "index2 = int(input(\"Enter index2 to swap: \"))\n",
    "my_list1[index1],my_list1[index2] = my_list1[index2],my_list1[index1]\n",
    "my_tup = tuple(my_list1)\n",
    "print(f\"List after swapping element at index {index1} & {index2} is {my_tup}\")"
   ]
  },
  {
   "cell_type": "code",
   "execution_count": 153,
   "id": "7a12fa72",
   "metadata": {},
   "outputs": [
    {
     "name": "stdout",
     "output_type": "stream",
     "text": [
      "Reverese of tuple (1, 3, 0, 45, 34, 1, 3) is (3, 1, 34, 45, 0, 3, 1)\n"
     ]
    }
   ],
   "source": [
    "#44. Reverse the elements of a tuple.\n",
    "my_tup = (1,3,0,45,34,1,3)\n",
    "\n",
    "tup_rev = my_tup[::-1]\n",
    "print(f\"Reverese of tuple {my_tup} is {tup_rev}\")"
   ]
  },
  {
   "cell_type": "code",
   "execution_count": 154,
   "id": "e3f2de9c",
   "metadata": {},
   "outputs": [
    {
     "name": "stdout",
     "output_type": "stream",
     "text": [
      "Enter a value of n: 6\n",
      "tuple of the first `n` powers of 2: (1, 2, 4, 8, 16, 32, 64)\n"
     ]
    }
   ],
   "source": [
    "#45. Create a tuple of the first `n` powers of 2.\n",
    "n = int(input(\"Enter a value of n: \"))\n",
    "tup = tuple([2**i for i in range(n+1)])\n",
    "print(\"tuple of the first `n` powers of 2:\",tup)"
   ]
  },
  {
   "cell_type": "code",
   "execution_count": 155,
   "id": "d47f9d4e",
   "metadata": {},
   "outputs": [
    {
     "name": "stdout",
     "output_type": "stream",
     "text": [
      "longest string in a tuple of strings is: Python\n"
     ]
    }
   ],
   "source": [
    "#46. Find the longest string in a tuple of strings.\n",
    "tup = ('I','love','Python')\n",
    "print(\"longest string in a tuple of strings is:\",max(tup,key=len))"
   ]
  },
  {
   "cell_type": "code",
   "execution_count": 156,
   "id": "259d38a6",
   "metadata": {},
   "outputs": [
    {
     "name": "stdout",
     "output_type": "stream",
     "text": [
      "shortest string in a tuple of strings is: I\n"
     ]
    }
   ],
   "source": [
    "#47. Find the shortest string in a tuple of strings.\n",
    "tup = ('I','love','Python')\n",
    "print(\"shortest string in a tuple of strings is:\",min(tup,key=len))"
   ]
  },
  {
   "cell_type": "code",
   "execution_count": 157,
   "id": "58685ba1",
   "metadata": {},
   "outputs": [
    {
     "name": "stdout",
     "output_type": "stream",
     "text": [
      "tuple of the first `n` triangular numbers: (1, 3, 6, 10, 15, 21, 28, 36, 45, 55)\n"
     ]
    }
   ],
   "source": [
    "#48. Create a tuple of the first `n` triangular numbers.\n",
    "limit = 10\n",
    "triangle_nums = []\n",
    "num = 0\n",
    "\n",
    "for i in range(1, limit + 1):\n",
    "    num += i\n",
    "    triangle_nums.append(num)\n",
    "print(\"tuple of the first `n` triangular numbers:\",tuple(triangle_nums))"
   ]
  },
  {
   "cell_type": "code",
   "execution_count": 158,
   "id": "d5591240",
   "metadata": {},
   "outputs": [
    {
     "name": "stdout",
     "output_type": "stream",
     "text": [
      "Main tuple contains subsequence tuple: True\n"
     ]
    }
   ],
   "source": [
    "#49. Check if a tuple contains another tuple as a subsequence.\n",
    "def contains_subsequence(main_tuple, sub_tuple):\n",
    "    sub_length = len(sub_tuple)\n",
    "    for i in range(len(main_tuple) - sub_length + 1):\n",
    "        if main_tuple[i:i+sub_length] == sub_tuple:\n",
    "            return True\n",
    "    return False\n",
    "\n",
    "main_tuple = (1, 2, 3, 4, 5, 6, 7, 8, 9)\n",
    "\n",
    "sub_tuple = (3, 4, 5)\n",
    "\n",
    "contains_subseq = contains_subsequence(main_tuple, sub_tuple)\n",
    "\n",
    "print(\"Main tuple contains subsequence tuple:\", contains_subseq)"
   ]
  },
  {
   "cell_type": "code",
   "execution_count": 159,
   "id": "047e8a82",
   "metadata": {},
   "outputs": [
    {
     "name": "stdout",
     "output_type": "stream",
     "text": [
      "Enter a value of n: 5\n",
      "tuple of alternating 1s and 0s of length 5: (1, 0, 1, 0, 1)\n"
     ]
    }
   ],
   "source": [
    "#50. Create a tuple of alternating 1s and 0s of length `n`.\n",
    "\n",
    "n = int(input(\"Enter a value of n: \"))\n",
    "if n%2==0:\n",
    "    tup = (1,0)*(n//2)\n",
    "else:\n",
    "    tup = (1,0)*(n//2) + (1,)\n",
    "print(f\"tuple of alternating 1s and 0s of length {n}: {tup}\")"
   ]
  },
  {
   "cell_type": "markdown",
   "id": "da5c1e45",
   "metadata": {},
   "source": [
    "# Set Based Practice Problem :"
   ]
  },
  {
   "cell_type": "code",
   "execution_count": 160,
   "id": "99f07541",
   "metadata": {},
   "outputs": [
    {
     "name": "stdout",
     "output_type": "stream",
     "text": [
      "set with integers from 1 to 5 {1, 2, 3, 4, 5}\n"
     ]
    }
   ],
   "source": [
    "#1. Create a set with integers from 1 to 5.\n",
    "my_set = {1,2,3,4,5}\n",
    "print(\"set with integers from 1 to 5\",my_set)"
   ]
  },
  {
   "cell_type": "code",
   "execution_count": 161,
   "id": "ac3ca19b",
   "metadata": {},
   "outputs": [
    {
     "name": "stdout",
     "output_type": "stream",
     "text": [
      "set after adding 6 is: {1, 2, 3, 4, 5, 6}\n"
     ]
    }
   ],
   "source": [
    "#2. Add an element to a set.\n",
    "my_set = {1,2,3,4,5}\n",
    "my_set.add(6)\n",
    "print(f\"set after adding 6 is: {my_set}\")"
   ]
  },
  {
   "cell_type": "code",
   "execution_count": 162,
   "id": "5892f589",
   "metadata": {},
   "outputs": [
    {
     "name": "stdout",
     "output_type": "stream",
     "text": [
      "set after removing 3 is: {1, 2, 4, 5}\n"
     ]
    }
   ],
   "source": [
    "#3. Remove an element from a set.\n",
    "my_set = {1,2,3,4,5}\n",
    "my_set.remove(3)\n",
    "print(f\"set after removing 3 is: {my_set}\")"
   ]
  },
  {
   "cell_type": "code",
   "execution_count": 163,
   "id": "0edda3ed",
   "metadata": {},
   "outputs": [
    {
     "name": "stdout",
     "output_type": "stream",
     "text": [
      "Enter the element you want to search: 2\n",
      "2 is present in set {1, 2, 3, 4, 5}\n"
     ]
    }
   ],
   "source": [
    "#4. Check if an element exists in a set.\n",
    "my_set = {1,2,3,4,5}\n",
    "e = eval(input(\"Enter the element you want to search: \"))\n",
    "if e in my_set:\n",
    "    print(f\"{e} is present in set {my_set}\")\n",
    "else:\n",
    "    print(f\"{e} is not present in set {my_set}\")"
   ]
  },
  {
   "cell_type": "code",
   "execution_count": 164,
   "id": "817e9dfb",
   "metadata": {},
   "outputs": [
    {
     "name": "stdout",
     "output_type": "stream",
     "text": [
      "lenght of set is: 5\n"
     ]
    }
   ],
   "source": [
    "#5. Find the length of a set without using the `len()` function.\n",
    "my_set = {1,2,3,4,5}\n",
    "count = 0\n",
    "for i in my_set:\n",
    "    count +=1\n",
    "print(\"lenght of set is:\",count)"
   ]
  },
  {
   "cell_type": "code",
   "execution_count": 165,
   "id": "02b9f7dd",
   "metadata": {},
   "outputs": [
    {
     "name": "stdout",
     "output_type": "stream",
     "text": [
      "After Clearing all elements from a set  set()\n"
     ]
    }
   ],
   "source": [
    "#6. Clear all elements from a set.\n",
    "my_set = {1,2,3,4,5}\n",
    "my_set.clear()\n",
    "print(\"After Clearing all elements from a set \",my_set)"
   ]
  },
  {
   "cell_type": "code",
   "execution_count": 166,
   "id": "77610651",
   "metadata": {},
   "outputs": [
    {
     "name": "stdout",
     "output_type": "stream",
     "text": [
      "set of even numbers from 1 to 10:  {2, 4, 6, 8, 10}\n"
     ]
    }
   ],
   "source": [
    "#7. Create a set of even numbers from 1 to 10.\n",
    "my_set = set([i for i in range(1,11) if i%2==0])\n",
    "print(\"set of even numbers from 1 to 10: \",my_set)"
   ]
  },
  {
   "cell_type": "code",
   "execution_count": 167,
   "id": "d87b8891",
   "metadata": {},
   "outputs": [
    {
     "name": "stdout",
     "output_type": "stream",
     "text": [
      "set of odd numbers from 1 to 10:  {1, 3, 5, 7, 9}\n"
     ]
    }
   ],
   "source": [
    "#8. Create a set of odd numbers from 1 to 10.\n",
    "my_set = set([i for i in range(1,11) if i%2==1])\n",
    "print(\"set of odd numbers from 1 to 10: \",my_set)"
   ]
  },
  {
   "cell_type": "code",
   "execution_count": 168,
   "id": "b82efbc3",
   "metadata": {},
   "outputs": [
    {
     "name": "stdout",
     "output_type": "stream",
     "text": [
      "the union of two sets:  {0, 34, 3, 5, -9, 56, -4}\n"
     ]
    }
   ],
   "source": [
    "#9. Find the union of two sets.\n",
    "my_set1 = {0,5,34,-4,56}\n",
    "my_set2 = {3,5,56,-9,0}\n",
    "print(\"the union of two sets: \",my_set1.union(my_set2))"
   ]
  },
  {
   "cell_type": "code",
   "execution_count": 169,
   "id": "87a09386",
   "metadata": {},
   "outputs": [
    {
     "name": "stdout",
     "output_type": "stream",
     "text": [
      "the intersection of two sets:  {0, 56, 5}\n"
     ]
    }
   ],
   "source": [
    "#10. Find the intersection of two sets.\n",
    "my_set1 = {0,5,34,-4,56}\n",
    "my_set2 = {3,5,56,-9,0}\n",
    "print(\"the intersection of two sets: \",my_set1.intersection(my_set2))"
   ]
  },
  {
   "cell_type": "code",
   "execution_count": 170,
   "id": "10e3244e",
   "metadata": {},
   "outputs": [
    {
     "name": "stdout",
     "output_type": "stream",
     "text": [
      "the difference of two sets:  {34, -4}\n"
     ]
    }
   ],
   "source": [
    "#11. Find the difference between two sets.\n",
    "my_set1 = {0,5,34,-4,56}\n",
    "my_set2 = {3,5,56,-9,0}\n",
    "print(\"the difference of two sets: \",my_set1.difference(my_set2))"
   ]
  },
  {
   "cell_type": "code",
   "execution_count": 171,
   "id": "0c021920",
   "metadata": {},
   "outputs": [
    {
     "name": "stdout",
     "output_type": "stream",
     "text": [
      "{56, 0, 5} is a subset of {0, 34, 5, 56, -4}\n"
     ]
    }
   ],
   "source": [
    "#12. Check if a set is a subset of another set.\n",
    "my_set1 = {0,5,34,-4,56}\n",
    "my_set2 = {5,56,0}\n",
    "\n",
    "if my_set2.issubset(my_set1):\n",
    "    print(f\"{my_set2} is a subset of {my_set1}\")\n",
    "else:\n",
    "    print(f\"{my_set2} is not a subset of {my_set1}\")\n"
   ]
  },
  {
   "cell_type": "code",
   "execution_count": 172,
   "id": "a24d347f",
   "metadata": {},
   "outputs": [
    {
     "name": "stdout",
     "output_type": "stream",
     "text": [
      "{0, 34, 5, 56, -4} is a superset of {56, 0, 5}\n"
     ]
    }
   ],
   "source": [
    "#13. Check if a set is a superset of another set.\n",
    "my_set1 = {0,5,34,-4,56}\n",
    "my_set2 = {5,56,0}\n",
    "\n",
    "if my_set1.issuperset(my_set2):\n",
    "    print(f\"{my_set1} is a superset of {my_set2}\")\n",
    "else:\n",
    "    print(f\"{my_set1} is not a superset of {my_set2}\")"
   ]
  },
  {
   "cell_type": "code",
   "execution_count": 173,
   "id": "1e603182",
   "metadata": {},
   "outputs": [
    {
     "name": "stdout",
     "output_type": "stream",
     "text": [
      "set from a list is:  {1, 2, 3, 4, 5}\n"
     ]
    }
   ],
   "source": [
    "#14. Create a set from a list.\n",
    "my_list = [1,2,3,4,5]\n",
    "my_set = set(my_list)\n",
    "print(\"set from a list is: \",my_set)"
   ]
  },
  {
   "cell_type": "code",
   "execution_count": 174,
   "id": "ebc38b2e",
   "metadata": {},
   "outputs": [
    {
     "name": "stdout",
     "output_type": "stream",
     "text": [
      "list from a set is:  [1, 2, 3, 4, 5]\n"
     ]
    }
   ],
   "source": [
    "#15. Convert a set to a list.\n",
    "my_set = {1,2,3,4,5}\n",
    "my_list = list(my_list)\n",
    "print(\"list from a set is: \",my_list)"
   ]
  },
  {
   "cell_type": "code",
   "execution_count": 175,
   "id": "bcfd9d82",
   "metadata": {},
   "outputs": [
    {
     "name": "stdout",
     "output_type": "stream",
     "text": [
      "Removing random element from set:  {1, 2, 3, 5}\n"
     ]
    }
   ],
   "source": [
    "#16. Remove a random element from a set.\n",
    "import random\n",
    "my_set = {1,2,3,4,5}\n",
    "e = random.sample(my_set, 1)[0]\n",
    "my_set.remove(e)\n",
    "print(\"Removing random element from set: \",my_set)"
   ]
  },
  {
   "cell_type": "code",
   "execution_count": 176,
   "id": "afe6db45",
   "metadata": {},
   "outputs": [
    {
     "name": "stdout",
     "output_type": "stream",
     "text": [
      "After poping the set is:  {2, 3, 4, 5}\n"
     ]
    }
   ],
   "source": [
    "#17. Pop an element from a set.\n",
    "my_set = {1,2,3,4,5}\n",
    "my_set.pop()\n",
    "print(\"After poping the set is: \",my_set)"
   ]
  },
  {
   "cell_type": "code",
   "execution_count": 177,
   "id": "fa446390",
   "metadata": {},
   "outputs": [
    {
     "name": "stdout",
     "output_type": "stream",
     "text": [
      "two sets have no elements in common\n"
     ]
    }
   ],
   "source": [
    "#18. Check if two sets have no elements in common.\n",
    "my_set1 = {1,80,34,-4,6}\n",
    "my_set2 = {3,5,56,-9,0}\n",
    "if my_set1.isdisjoint(my_set2):\n",
    "    print(\"two sets have no elements in common\")\n",
    "else:\n",
    "    print(\"two sets have elements in common\")"
   ]
  },
  {
   "cell_type": "code",
   "execution_count": 178,
   "id": "0cd7cb10",
   "metadata": {},
   "outputs": [
    {
     "name": "stdout",
     "output_type": "stream",
     "text": [
      " symmetric difference between two sets:  {1, 2, 4}\n"
     ]
    }
   ],
   "source": [
    "#19. Find the symmetric difference between two sets.\n",
    "my_set1 = {1,2,3,4,5}\n",
    "my_set2 = {3,5}\n",
    "\n",
    "print(\" symmetric difference between two sets: \",my_set1.symmetric_difference(my_set2))"
   ]
  },
  {
   "cell_type": "code",
   "execution_count": 179,
   "id": "27bd9916",
   "metadata": {},
   "outputs": [
    {
     "name": "stdout",
     "output_type": "stream",
     "text": [
      "Updated set is:  {1, 2, 3, 4, 5, 6, 7}\n"
     ]
    }
   ],
   "source": [
    "#20. Update a set with elements from another set.\n",
    "my_set1 = {1,2,3,4,5}\n",
    "my_set2 = {6,7}\n",
    "my_set1.update(my_set2)\n",
    "print(\"Updated set is: \",my_set1)"
   ]
  },
  {
   "cell_type": "code",
   "execution_count": 180,
   "id": "023fbd82",
   "metadata": {},
   "outputs": [
    {
     "name": "stdout",
     "output_type": "stream",
     "text": [
      "{2, 3, 5}\n"
     ]
    }
   ],
   "source": [
    "#21. Create a set of the first 5 prime numbers.\n",
    "print(set([i for i in range(2, 6) if 0 not in [i%n for n in range(2, i)]]))"
   ]
  },
  {
   "cell_type": "code",
   "execution_count": 181,
   "id": "0c39dd50",
   "metadata": {},
   "outputs": [
    {
     "name": "stdout",
     "output_type": "stream",
     "text": [
      "{1, 2, 3, 4, 5} and {6, 7} are not identical\n"
     ]
    }
   ],
   "source": [
    "#22. Check if two sets are identical.\n",
    "my_set1 = {1,2,3,4,5}\n",
    "my_set2 = {6,7}\n",
    "\n",
    "if my_set1 == my_set2:\n",
    "    print(f\"{my_set1} and {my_set2} are identical\")\n",
    "else:\n",
    "    print(f\"{my_set1} and {my_set2} are not identical\")"
   ]
  },
  {
   "cell_type": "code",
   "execution_count": 182,
   "id": "d0f33c29",
   "metadata": {},
   "outputs": [
    {
     "name": "stdout",
     "output_type": "stream",
     "text": [
      "frozen set: frozenset({1, 2, 3, 4, 5})\n"
     ]
    }
   ],
   "source": [
    "#23. Create a frozen set.\n",
    "print(\"frozen set:\",frozenset([1,2,3,4,5]))"
   ]
  },
  {
   "cell_type": "code",
   "execution_count": 185,
   "id": "fb085152",
   "metadata": {},
   "outputs": [
    {
     "name": "stdout",
     "output_type": "stream",
     "text": [
      "{1, 34, 6, 80, -4} is disjoint with {0, 3, 5, -9, 56}\n"
     ]
    }
   ],
   "source": [
    "#24. Check if a set is disjoint with another set.\n",
    "my_set1 = {1,80,34,-4,6}\n",
    "my_set2 = {3,5,56,-9,0}\n",
    "if my_set1.isdisjoint(my_set2):\n",
    "    print(f\"{my_set1} is disjoint with {my_set2}\") \n",
    "else:\n",
    "    print(f\"{my_set1} is not disjoint with {my_set2}\")"
   ]
  },
  {
   "cell_type": "code",
   "execution_count": 186,
   "id": "41902e25",
   "metadata": {},
   "outputs": [
    {
     "name": "stdout",
     "output_type": "stream",
     "text": [
      "set of squares of numbers from 1 to 5:  {1, 4, 9, 16, 25}\n"
     ]
    }
   ],
   "source": [
    "#25. Create a set of squares of numbers from 1 to 5.\n",
    "my_set = set([i**2 for i in range(1,6)])\n",
    "print(\"set of squares of numbers from 1 to 5: \",my_set)"
   ]
  },
  {
   "cell_type": "code",
   "execution_count": 187,
   "id": "4a3919e8",
   "metadata": {},
   "outputs": [
    {
     "name": "stdout",
     "output_type": "stream",
     "text": [
      "Filtered even number from set is {80, 34, -4, 6}\n"
     ]
    }
   ],
   "source": [
    "#26. Filter out all even numbers from a set.\n",
    "my_set = {1,80,34,-4,6}\n",
    "my_set = list(filter(lambda x: (x%2==0), my_set))\n",
    "print(\"Filtered even number from set is\",set(my_set))"
   ]
  },
  {
   "cell_type": "code",
   "execution_count": 188,
   "id": "46c0d0c7",
   "metadata": {},
   "outputs": [
    {
     "name": "stdout",
     "output_type": "stream",
     "text": [
      "After Multiplying all elements in a set by 2. {160, 2, 68, 12, -8}\n"
     ]
    }
   ],
   "source": [
    "#27. Multiply all elements in a set by 2.\n",
    "my_set = {1,80,34,-4,6}\n",
    "my_set = list(map(lambda x: (x*2), my_set))\n",
    "print(\"After Multiplying all elements in a set by 2.\",set(my_set))"
   ]
  },
  {
   "cell_type": "code",
   "execution_count": 189,
   "id": "2a2708e1",
   "metadata": {},
   "outputs": [
    {
     "name": "stdout",
     "output_type": "stream",
     "text": [
      "Random numbers set is: {1, 2, 5, 8, 11, 14, 15, 17, 19}\n"
     ]
    }
   ],
   "source": [
    "#28. Create a set of random numbers.\n",
    "from random import randint\n",
    "\n",
    "my_list = []\n",
    "for i in range(10):\n",
    "    my_list.append(randint(1,20))\n",
    "print(\"Random numbers set is:\",set(my_list))"
   ]
  },
  {
   "cell_type": "code",
   "execution_count": 190,
   "id": "271d167c",
   "metadata": {},
   "outputs": [
    {
     "name": "stdout",
     "output_type": "stream",
     "text": [
      "Given set is empty\n"
     ]
    }
   ],
   "source": [
    "#29. Check if a set is empty.\n",
    "my_set = set()\n",
    "if my_set == set():\n",
    "    print(\"Given set is empty\")\n",
    "else:\n",
    "    print(\"Given set is not empty\")"
   ]
  },
  {
   "cell_type": "code",
   "execution_count": 191,
   "id": "c99f816c",
   "metadata": {},
   "outputs": [
    {
     "name": "stdout",
     "output_type": "stream",
     "text": [
      "Nested set {1, 2, frozenset({2, 3})}\n"
     ]
    }
   ],
   "source": [
    "#30. Create a nested set (hint: use frozenset).\n",
    "my_set = {1,2}\n",
    "my_set.add(frozenset([2,3]))\n",
    "print(\"Nested set\",my_set)"
   ]
  },
  {
   "cell_type": "code",
   "execution_count": 192,
   "id": "ccf8c9b2",
   "metadata": {},
   "outputs": [
    {
     "name": "stdout",
     "output_type": "stream",
     "text": [
      "After discarding element from set: {1, 6, 80, -4}\n"
     ]
    }
   ],
   "source": [
    "#31. Remove an element from a set using the discard method.\n",
    "my_set = {1,80,34,-4,6}\n",
    "my_set.discard(34)\n",
    "print(\"After discarding element from set:\",my_set)"
   ]
  },
  {
   "cell_type": "code",
   "execution_count": 193,
   "id": "d7f94688",
   "metadata": {},
   "outputs": [
    {
     "name": "stdout",
     "output_type": "stream",
     "text": [
      "my_set1 == my_set2: False\n",
      "my_set1 != my_set2: True\n",
      "my_set1 < my_set2: False\n",
      "my_set1 <= my_set2: False\n",
      "my_set1 > my_set2: False\n",
      "my_set1 >= my_set2: False\n"
     ]
    }
   ],
   "source": [
    "#32. Compare two sets.\n",
    "my_set1 = {1,2,3}\n",
    "my_set2 = {1,2,4}\n",
    "\n",
    "print(\"my_set1 == my_set2:\", my_set1 == my_set2)  # Equality check\n",
    "print(\"my_set1 != my_set2:\", my_set1 != my_set2)  # Inequality check\n",
    "print(\"my_set1 < my_set2:\", my_set1 < my_set2)    # Less than check\n",
    "print(\"my_set1 <= my_set2:\", my_set1 <= my_set2)  # Less than or equal to check\n",
    "print(\"my_set1 > my_set2:\", my_set1 > my_set2)    # Greater than check\n",
    "print(\"my_set1 >= my_set2:\", my_set1 >= my_set2)  # Greater than or equal to check"
   ]
  },
  {
   "cell_type": "code",
   "execution_count": 194,
   "id": "b8256662",
   "metadata": {},
   "outputs": [
    {
     "name": "stdout",
     "output_type": "stream",
     "text": [
      "Enter a string: python\n",
      "string python is converted to set {'o', 'h', 'y', 't', 'n', 'p'}\n"
     ]
    }
   ],
   "source": [
    "#33. Create a set from a string.\n",
    "string = input(\"Enter a string: \")\n",
    "my_set = set(string)\n",
    "print(f\"string {string} is converted to set {my_set}\")"
   ]
  },
  {
   "cell_type": "code",
   "execution_count": 195,
   "id": "bc227221",
   "metadata": {},
   "outputs": [
    {
     "name": "stdout",
     "output_type": "stream",
     "text": [
      "After Converting a set of strings to a set of integers. {0, 1, 34, 3, 45}\n"
     ]
    }
   ],
   "source": [
    "#34. Convert a set of strings to a set of integers.\n",
    "my_set1 = {'1','3','0','45','34','1','3'}\n",
    "my_set = set([int(i) for i in my_set1])\n",
    "print(\"After Converting a set of strings to a set of integers.\",my_set)"
   ]
  },
  {
   "cell_type": "code",
   "execution_count": 196,
   "id": "e8506441",
   "metadata": {},
   "outputs": [
    {
     "name": "stdout",
     "output_type": "stream",
     "text": [
      "After Converting a set of integers to a set of strings. {'45', '1', '3', '0', '34'}\n"
     ]
    }
   ],
   "source": [
    "#35. Convert a set of integers to a set of strings.\n",
    "my_set1 = {1,3,0,45,34,1,3}\n",
    "my_set = set([str(i) for i in my_set1])\n",
    "print(\"After Converting a set of integers to a set of strings.\",my_set)"
   ]
  },
  {
   "cell_type": "code",
   "execution_count": 197,
   "id": "1c768b69",
   "metadata": {},
   "outputs": [
    {
     "name": "stdout",
     "output_type": "stream",
     "text": [
      "After Converting a tuple to set: {0, 1, 34, 3, 45}\n"
     ]
    }
   ],
   "source": [
    "#36. Create a set from a tuple.\n",
    "my_tup1 = (1,3,0,45,34,1,3)\n",
    "print(\"After Converting a tuple to set:\",set(my_tup1))"
   ]
  },
  {
   "cell_type": "code",
   "execution_count": 198,
   "id": "b53c0177",
   "metadata": {},
   "outputs": [
    {
     "name": "stdout",
     "output_type": "stream",
     "text": [
      "After Converting a set to tuple: (0, 1, 34, 3, 45)\n"
     ]
    }
   ],
   "source": [
    "#37. Convert a set to a tuple.\n",
    "my_set = {1,3,0,45,34,1,3}\n",
    "print(\"After Converting a set to tuple:\",tuple(my_set))"
   ]
  },
  {
   "cell_type": "code",
   "execution_count": 199,
   "id": "9664b011",
   "metadata": {},
   "outputs": [
    {
     "name": "stdout",
     "output_type": "stream",
     "text": [
      "maximum value in a set: 45\n"
     ]
    }
   ],
   "source": [
    "#38. Find the maximum value in a set.\n",
    "my_set = {1,3,0,45,34,1,3}\n",
    "print(\"maximum value in a set:\",max(my_set))"
   ]
  },
  {
   "cell_type": "code",
   "execution_count": 200,
   "id": "8d1cfc17",
   "metadata": {},
   "outputs": [
    {
     "name": "stdout",
     "output_type": "stream",
     "text": [
      "minimum value in a set: 0\n"
     ]
    }
   ],
   "source": [
    "#39. Find the minimum value in a set.\n",
    "my_set = {1,3,0,45,34,1,3}\n",
    "print(\"minimum value in a set:\",min(my_set))"
   ]
  },
  {
   "cell_type": "code",
   "execution_count": 201,
   "id": "3e403f15",
   "metadata": {},
   "outputs": [
    {
     "name": "stdout",
     "output_type": "stream",
     "text": [
      "Enter space-seperated value of set: 1 2 3 2 1\n",
      "Set is:  {'1', '2', '3'}\n"
     ]
    }
   ],
   "source": [
    "#40. Create a set from user input.\n",
    "my_set =  set(input('Enter space-seperated value of set: ').split())\n",
    "print(\"Set is: \",my_set)"
   ]
  },
  {
   "cell_type": "code",
   "execution_count": 202,
   "id": "68651f32",
   "metadata": {},
   "outputs": [
    {
     "name": "stdout",
     "output_type": "stream",
     "text": [
      "intersection of two sets is empty\n"
     ]
    }
   ],
   "source": [
    "#41. Check if the intersection of two sets is empty.\n",
    "my_set1 = {1,80,34,-4,6}\n",
    "my_set2 = {3,5,56,-9,0}\n",
    "if my_set1.intersection(my_set2) == set():\n",
    "    print(\"intersection of two sets is empty\")\n",
    "else:\n",
    "    print(\"intersection of two sets is not empty\")"
   ]
  },
  {
   "cell_type": "code",
   "execution_count": 203,
   "id": "570378d7",
   "metadata": {},
   "outputs": [
    {
     "name": "stdout",
     "output_type": "stream",
     "text": [
      "Set of the first 10 Fibonacci numbers: {0, 1, 2, 3}\n"
     ]
    }
   ],
   "source": [
    "#42. Create a set of the first 5 Fibonacci numbers.\n",
    "num = 5\n",
    "n1, n2 = 0, 1\n",
    "my_list =[]\n",
    "my_list.extend([n1,n2])\n",
    "for i in range(2, num):\n",
    "    n3 = n1 + n2\n",
    "    n1 = n2\n",
    "    n2 = n3\n",
    "    my_list.append(n3)\n",
    "print(\"Set of the first 10 Fibonacci numbers:\",set(my_list))"
   ]
  },
  {
   "cell_type": "code",
   "execution_count": 204,
   "id": "44cf5ced",
   "metadata": {},
   "outputs": [
    {
     "name": "stdout",
     "output_type": "stream",
     "text": [
      "After removing duplicates:  [0, 1, 34, 3, 45]\n"
     ]
    }
   ],
   "source": [
    "#43. Remove duplicates from a list using sets.\n",
    "my_list = [1,3,0,45,34,1,3]\n",
    "my_set = set(my_list)\n",
    "\n",
    "print(\"After removing duplicates: \", list(my_set))"
   ]
  },
  {
   "cell_type": "code",
   "execution_count": 205,
   "id": "536618e0",
   "metadata": {},
   "outputs": [
    {
     "name": "stdout",
     "output_type": "stream",
     "text": [
      "Both sets have same elements\n"
     ]
    }
   ],
   "source": [
    "#44. Check if two sets have the same elements, regardless of their count.\n",
    "my_set1 = {1,2,3,1,2,3,1}\n",
    "my_set2 = {1,2,3}\n",
    "\n",
    "if my_set1 == my_set2:\n",
    "    print(\"Both sets have same elements\")\n",
    "else:\n",
    "    print(\"Both sets have different elements\")"
   ]
  },
  {
   "cell_type": "code",
   "execution_count": 206,
   "id": "7722390c",
   "metadata": {},
   "outputs": [
    {
     "name": "stdout",
     "output_type": "stream",
     "text": [
      "Enter a value of n: 6\n",
      "set of the first `n` powers of 2: {32, 1, 2, 64, 4, 8, 16}\n"
     ]
    }
   ],
   "source": [
    "#45. Create a set of the first `n` powers of 2.\n",
    "n = int(input(\"Enter a value of n: \"))\n",
    "set1 = set([2**i for i in range(n+1)])\n",
    "print(\"set of the first `n` powers of 2:\",set1)"
   ]
  },
  {
   "cell_type": "code",
   "execution_count": 207,
   "id": "6b18f77d",
   "metadata": {},
   "outputs": [
    {
     "name": "stdout",
     "output_type": "stream",
     "text": [
      "Common elements between a set and a list:  {1}\n"
     ]
    }
   ],
   "source": [
    "#46. Find the common elements between a set and a list.\n",
    "my_set1 = {1,2,3,1,2,3,1}\n",
    "my_list = [1,5,6,7]\n",
    "my_set2 = set(my_list)\n",
    "my_set1.intersection(my_set2)\n",
    "print(\"Common elements between a set and a list: \",my_set1.intersection(my_set2))"
   ]
  },
  {
   "cell_type": "code",
   "execution_count": 208,
   "id": "59064821",
   "metadata": {},
   "outputs": [
    {
     "name": "stdout",
     "output_type": "stream",
     "text": [
      "set of the first `n` triangular numbers: {1, 3, 36, 6, 10, 45, 15, 21, 55, 28}\n"
     ]
    }
   ],
   "source": [
    "#47. Create a set of the first `n` triangular numbers.\n",
    "limit = 10\n",
    "triangle_nums = []\n",
    "num = 0\n",
    "\n",
    "for i in range(1, limit + 1):\n",
    "    num += i\n",
    "    triangle_nums.append(num)\n",
    "print(\"set of the first `n` triangular numbers:\",set(triangle_nums))"
   ]
  },
  {
   "cell_type": "code",
   "execution_count": 209,
   "id": "3ee8ad05",
   "metadata": {},
   "outputs": [
    {
     "name": "stdout",
     "output_type": "stream",
     "text": [
      "{1, 2} is a subset of {1, 2, 3}\n"
     ]
    }
   ],
   "source": [
    "#48. Check if a set contains another set as a subset.\n",
    "my_set1 = {1,2,3,1,2,3,1}\n",
    "my_set2 = {1,2}\n",
    "if my_set2.issubset(my_set1):\n",
    "    print(f\"{my_set2} is a subset of {my_set1}\")\n",
    "else:\n",
    "    print(f\"{my_set2} is not a subset of {my_set1}\")"
   ]
  },
  {
   "cell_type": "code",
   "execution_count": 210,
   "id": "f12361b7",
   "metadata": {},
   "outputs": [
    {
     "name": "stdout",
     "output_type": "stream",
     "text": [
      "Enter a value of n: 5\n",
      "set of alternating 1s and 0s of length 5: {0, 1}\n"
     ]
    }
   ],
   "source": [
    "#49. Create a set of alternating 1s and 0s of length `n`.\n",
    "n = int(input(\"Enter a value of n: \"))\n",
    "if n%2==0:\n",
    "    tup = (1,0)*(n//2)\n",
    "else:\n",
    "    tup = (1,0)*(n//2) + (1,)\n",
    "print(f\"set of alternating 1s and 0s of length {n}: {set(tup)}\")\n"
   ]
  },
  {
   "cell_type": "code",
   "execution_count": 213,
   "id": "4ea90e10",
   "metadata": {},
   "outputs": [
    {
     "name": "stdout",
     "output_type": "stream",
     "text": [
      "Merged set:  {1, 2, 3, 4, 5, 6}\n"
     ]
    }
   ],
   "source": [
    "#50. Merge multiple sets into one.\n",
    "my_set1 = {1,2}\n",
    "my_set2 = {3,4}\n",
    "my_set3 = {5,6}\n",
    "merged_set = my_set3.union(my_set1, my_set2)\n",
    "print(\"Merged set: \",merged_set)"
   ]
  }
 ],
 "metadata": {
  "kernelspec": {
   "display_name": "Python 3",
   "language": "python",
   "name": "python3"
  },
  "language_info": {
   "codemirror_mode": {
    "name": "ipython",
    "version": 3
   },
   "file_extension": ".py",
   "mimetype": "text/x-python",
   "name": "python",
   "nbconvert_exporter": "python",
   "pygments_lexer": "ipython3",
   "version": "3.8.8"
  }
 },
 "nbformat": 4,
 "nbformat_minor": 5
}
