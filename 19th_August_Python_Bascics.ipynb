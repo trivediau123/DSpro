{
 "cells": [
  {
   "cell_type": "markdown",
   "id": "5fadda02",
   "metadata": {},
   "source": [
    "# Python Basics Assignment"
   ]
  },
  {
   "cell_type": "markdown",
   "id": "01ed4368",
   "metadata": {},
   "source": [
    "## Python Basics Variable"
   ]
  },
  {
   "cell_type": "markdown",
   "id": "0dc19bc3",
   "metadata": {},
   "source": [
    "1. Declare two variables, `x` and `y`, and assign them integer values.\n",
    "Swap the values of these variables without using any temporary\n",
    "variable."
   ]
  },
  {
   "cell_type": "code",
   "execution_count": 1,
   "id": "dbaf4be0",
   "metadata": {},
   "outputs": [
    {
     "name": "stdout",
     "output_type": "stream",
     "text": [
      "Before swapping Values of x and y are:  10 20\n"
     ]
    }
   ],
   "source": [
    "#Variable declaration\n",
    "x = 10\n",
    "y = 20\n",
    "print(\"Before swapping Values of x and y are: \",x,y)"
   ]
  },
  {
   "cell_type": "code",
   "execution_count": 2,
   "id": "e4ee4f43",
   "metadata": {},
   "outputs": [],
   "source": [
    "# Swapping x and y values without third variable\n",
    "x = x+y\n",
    "y = x-y\n",
    "x = x-y"
   ]
  },
  {
   "cell_type": "code",
   "execution_count": 3,
   "id": "37938555",
   "metadata": {},
   "outputs": [
    {
     "name": "stdout",
     "output_type": "stream",
     "text": [
      "After swapping Values of x and y are:  20 10\n"
     ]
    }
   ],
   "source": [
    "print(\"After swapping Values of x and y are: \",x,y)"
   ]
  },
  {
   "cell_type": "markdown",
   "id": "7a6b4db4",
   "metadata": {},
   "source": [
    "2. Create a program that calculates the area of a rectangle. Take the\n",
    "length and width as inputs from the user and store them in variables.\n",
    "Calculate and display the area."
   ]
  },
  {
   "cell_type": "code",
   "execution_count": 4,
   "id": "9639b515",
   "metadata": {},
   "outputs": [
    {
     "name": "stdout",
     "output_type": "stream",
     "text": [
      "Enter the length of Rectangle: 5\n",
      "Enter the width of Rectangle: 4\n",
      "Area of reactangle is:  20\n"
     ]
    }
   ],
   "source": [
    "#Ask user to enter length and width of reactangle\n",
    "length = int(input(\"Enter the length of Rectangle: \"))\n",
    "width = int(input(\"Enter the width of Rectangle: \"))\n",
    "\n",
    "#Calculate area\n",
    "area = length*width\n",
    "print(\"Area of reactangle is: \",area)"
   ]
  },
  {
   "cell_type": "markdown",
   "id": "3f6f576f",
   "metadata": {},
   "source": [
    "3. Write a Python program that converts temperature from Celsius to\n",
    "Fahrenheit. Take the temperature in Celsius as input, store it in a\n",
    "variable, convert it to Fahrenheit, and display the result."
   ]
  },
  {
   "cell_type": "code",
   "execution_count": 5,
   "id": "91613dd4",
   "metadata": {},
   "outputs": [
    {
     "name": "stdout",
     "output_type": "stream",
     "text": [
      "Enter the temperature in Celsius: 30.9\n",
      "Temperature in Fahrenheit is:  87.62\n"
     ]
    }
   ],
   "source": [
    "#Ask user to enter temprature in celsius.\n",
    "Celsius = float(input(\"Enter the temperature in Celsius: \"))\n",
    "\n",
    "#Convert temperature from Celsius to Fahrenheit\n",
    "Fahrenheit = (Celsius *1.8) + 32\n",
    "print(\"Temperature in Fahrenheit is: \",Fahrenheit)"
   ]
  },
  {
   "cell_type": "markdown",
   "id": "95d2b057",
   "metadata": {},
   "source": [
    "## String Based Questions"
   ]
  },
  {
   "cell_type": "markdown",
   "id": "53e02d4e",
   "metadata": {},
   "source": [
    "1. Write a Python program that takes a string as input and prints the\n",
    "length of the string."
   ]
  },
  {
   "cell_type": "code",
   "execution_count": 6,
   "id": "75dc4630",
   "metadata": {},
   "outputs": [
    {
     "name": "stdout",
     "output_type": "stream",
     "text": [
      "Enter a string: Python\n",
      "Length of the string is:  6\n"
     ]
    }
   ],
   "source": [
    "#Ask user to enetr a string\n",
    "string = input(\"Enter a string: \")\n",
    "\n",
    "#Calculate and Print lenght of string by \"len\" function\n",
    "print(\"Length of the string is: \", len(string))"
   ]
  },
  {
   "cell_type": "markdown",
   "id": "dbed3e77",
   "metadata": {},
   "source": [
    "2. Create a program that takes a sentence from the user and counts the\n",
    "number of vowels (a, e, i, o, u) in the string."
   ]
  },
  {
   "cell_type": "code",
   "execution_count": 7,
   "id": "77d37b9c",
   "metadata": {},
   "outputs": [
    {
     "name": "stdout",
     "output_type": "stream",
     "text": [
      "Enter a string: I love my India\n",
      "Number of vowels in a string is:  6\n"
     ]
    }
   ],
   "source": [
    "#Ask user to enetr a string\n",
    "string = input(\"Enter a string: \")\n",
    "\n",
    "j=0 #initilize counter\n",
    "for i in range(len(string)):\n",
    "    if string[i] in ['a','e','i','o','u','A','E','I','O','U']:\n",
    "        j=j+1\n",
    "print(\"Number of vowels in a string is: \",j)"
   ]
  },
  {
   "cell_type": "markdown",
   "id": "9c6dc726",
   "metadata": {},
   "source": [
    "3. Given a string, reverse the order of characters using string slicing and\n",
    "print the reversed string."
   ]
  },
  {
   "cell_type": "code",
   "execution_count": 8,
   "id": "cb93498f",
   "metadata": {},
   "outputs": [
    {
     "name": "stdout",
     "output_type": "stream",
     "text": [
      "Enter a string: Learning is great\n",
      "Reverse of Learning is great is taerg si gninraeL\n"
     ]
    }
   ],
   "source": [
    "#Ask user to enetr a string\n",
    "string = input(\"Enter a string: \")\n",
    "\n",
    "#Reverese string by slicing\n",
    "reverse_string = string[::-1]\n",
    "print(\"Reverse of\",string,\"is\",reverse_string)"
   ]
  },
  {
   "cell_type": "markdown",
   "id": "64742f76",
   "metadata": {},
   "source": [
    "4. Write a program that takes a string as input and checks if it is a\n",
    "palindrome (reads the same forwards and backwards)."
   ]
  },
  {
   "cell_type": "code",
   "execution_count": 9,
   "id": "b8c70511",
   "metadata": {},
   "outputs": [
    {
     "name": "stdout",
     "output_type": "stream",
     "text": [
      "Enter a string: naman\n",
      "Given string is palindrome\n"
     ]
    }
   ],
   "source": [
    "#Ask user to enetr a string\n",
    "string = input(\"Enter a string: \")\n",
    "\n",
    "#Reverese string by slicing\n",
    "reverse_string = string[::-1]\n",
    "\n",
    "#Check for palindrome\n",
    "if string==reverse_string:\n",
    "    print(\"Given string is palindrome\")\n",
    "else:\n",
    "    print(\"Given string is not a palindrome\")"
   ]
  },
  {
   "cell_type": "markdown",
   "id": "1c200a8e",
   "metadata": {},
   "source": [
    "5. Create a program that takes a string as input and removes all the\n",
    "spaces from it. Print the modified string without spaces."
   ]
  },
  {
   "cell_type": "code",
   "execution_count": 10,
   "id": "7a596e02",
   "metadata": {},
   "outputs": [
    {
     "name": "stdout",
     "output_type": "stream",
     "text": [
      "Enter a string:   I like python\n",
      "string after spaces removed is:  Ilikepython\n"
     ]
    }
   ],
   "source": [
    "#Ask user to enetr a string\n",
    "string = input(\"Enter a string: \")\n",
    "\n",
    "string_new = string.replace(' ','')\n",
    "\n",
    "print(\"string after spaces removed is: \",string_new)"
   ]
  }
 ],
 "metadata": {
  "kernelspec": {
   "display_name": "Python 3",
   "language": "python",
   "name": "python3"
  },
  "language_info": {
   "codemirror_mode": {
    "name": "ipython",
    "version": 3
   },
   "file_extension": ".py",
   "mimetype": "text/x-python",
   "name": "python",
   "nbconvert_exporter": "python",
   "pygments_lexer": "ipython3",
   "version": "3.8.8"
  }
 },
 "nbformat": 4,
 "nbformat_minor": 5
}
